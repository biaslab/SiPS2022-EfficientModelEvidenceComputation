{
 "cells": [
  {
   "cell_type": "markdown",
   "metadata": {},
   "source": [
    "# Example: Hidden Markov Model\n",
    "\n",
    "In this example, we aim to test the scale factor update rules for Categorical messages through Transition node and Equality node in ReactiveMP. All the messages follow the Sum-Product update rule. \n",
    "We expect the negative-log scale factor on every edge is identical and equivalent to the Bethe Free-Energy computed by ReactiveMP. \n",
    "\n",
    "The model specification is as follows:\n",
    "$$ z_t \\sim Cat(Az_{t-1}), $$\n",
    "$$ y_t \\sim Cat(Bz_t) $$ \n",
    "where $z_t$ and $y_t$ are the state and the observation at time $t$, $A$ and $B$ are known matrices. We perform state smoothing in this example. "
   ]
  },
  {
   "cell_type": "code",
   "execution_count": 1,
   "metadata": {},
   "outputs": [],
   "source": [
    "using ReactiveMP, Rocket, GraphPPL, Distributions\n",
    "using LinearAlgebra, Random\n"
   ]
  },
  {
   "cell_type": "markdown",
   "metadata": {},
   "source": [
    "## Generate data"
   ]
  },
  {
   "cell_type": "code",
   "execution_count": 44,
   "metadata": {},
   "outputs": [],
   "source": [
    "n_samples = 5\n",
    "A = [0.6 0.1 0.2; 0.3 0.7 0.3; 0.1 0.2 0.5]; # Transition probabilities\n",
    "B = [0.8 0.25 0.1; 0.1 0.5 0.6; 0.1 0.25 0.3]; # Observation noise\n",
    "\n",
    "z_0_data = [1.0, 0.0, 0.0]; # Initial state"
   ]
  },
  {
   "cell_type": "code",
   "execution_count": 45,
   "metadata": {},
   "outputs": [
    {
     "data": {
      "text/plain": [
       "generate_data (generic function with 1 method)"
      ]
     },
     "execution_count": 45,
     "metadata": {},
     "output_type": "execute_result"
    }
   ],
   "source": [
    "function onehot_vec(dist::Categorical)\n",
    "    k = ncategories(dist); # get the number of categories\n",
    "    x = zeros(k);\n",
    "    x[rand(dist)] = 1.0;\n",
    "\n",
    "    return x\n",
    "end\n",
    "\n",
    "function generate_data(n_samples; seed = 12)\n",
    "    Random.seed!(seed)\n",
    "    z = Vector{Vector{Float64}}(undef, n_samples) # one-hot encoded state\n",
    "    y = Vector{Vector{Float64}}(undef, n_samples) # one-hot encoded observation\n",
    "    z_prev = z_0_data;\n",
    "    for t = 1:n_samples\n",
    "        z[t] = onehot_vec(Categorical(A*z_prev))\n",
    "        y[t] = onehot_vec(Categorical(B*z[t]))\n",
    "        z_prev = z[t]\n",
    "    end\n",
    "    \n",
    "    return y\n",
    "end"
   ]
  },
  {
   "cell_type": "code",
   "execution_count": 46,
   "metadata": {},
   "outputs": [],
   "source": [
    "y_data = generate_data(n_samples);"
   ]
  },
  {
   "cell_type": "markdown",
   "metadata": {},
   "source": [
    "## Inference by ReactiveMP (involving Scale Factor)"
   ]
  },
  {
   "cell_type": "code",
   "execution_count": 47,
   "metadata": {},
   "outputs": [],
   "source": [
    "@rule Transition(:out, Marginalisation) (m_in::Categorical, m_a::PointMass) = begin\n",
    "    return Categorical((mean(m_a)*probvec(m_in)) ./ sum(mean(m_a)*probvec(m_in)))\n",
    "end\n",
    "\n",
    "@rule Transition(:out, Marginalisation) (m_in::Categorical, m_a::PointMass, meta::ScaleFactorMeta) = begin \n",
    "    message = @call_rule Transition(:out, Marginalisation) (m_in = m_in, m_a = m_a)\n",
    "    scalefactor = 0.0\n",
    "    return ScaledMessage(message, scalefactor)\n",
    "end\n",
    "\n",
    "@rule Transition(:out, Marginalisation) (m_in::ScaledMessage, m_a::PointMass, meta::ScaleFactorMeta) = begin \n",
    "    A = mean(m_a)\n",
    "    message = @call_rule Transition(:out, Marginalisation) (m_in = m_in.message, m_a = m_a)\n",
    "    scalefactor = m_in.scale \n",
    "    return ScaledMessage(message, scalefactor)\n",
    "end\n",
    "\n",
    "@rule Transition(:in, Marginalisation) (m_out::PointMass, m_a::PointMass, meta::ScaleFactorMeta) = begin \n",
    "    A = mean(m_a)\n",
    "    message = Categorical((A' * probvec(m_out)) ./ sum(A' * probvec(m_out)))\n",
    "    scalefactor = -log(sum(A' * probvec(m_out)))\n",
    "    return ScaledMessage(message, scalefactor)\n",
    "end\n",
    "\n",
    "@rule Transition(:in, Marginalisation) (m_out::ScaledMessage, m_a::PointMass, meta::ScaleFactorMeta) = begin \n",
    "    A = mean(m_a)\n",
    "    message = Categorical((A' * probvec(m_out.message)) ./ sum(A' * probvec(m_out.message)))\n",
    "    scalefactor = m_out.scale - log(sum(A' * probvec(m_out.message)))\n",
    "\n",
    "    return ScaledMessage(message, scalefactor)\n",
    "end\n"
   ]
  },
  {
   "cell_type": "code",
   "execution_count": 48,
   "metadata": {},
   "outputs": [],
   "source": [
    "#Product function for equality node\n",
    "function ReactiveMP.prod(::ProdAnalytical, left::ScaledMessage{ <: Categorical }, right::ScaledMessage{ <:Categorical })\n",
    "    mean_left = probvec(left.message)\n",
    "    mean_right = probvec(right.message)\n",
    "\n",
    "    message = prod(ProdAnalytical(),left.message,right.message)\n",
    "    scalefactor = left.scale + right.scale - log(mean_left' * mean_right)\n",
    "\n",
    "    return ScaledMessage(message,scalefactor)\n",
    "end"
   ]
  },
  {
   "cell_type": "markdown",
   "metadata": {},
   "source": [
    "### Define Model "
   ]
  },
  {
   "cell_type": "code",
   "execution_count": 49,
   "metadata": {},
   "outputs": [
    {
     "data": {
      "text/plain": [
       "HMM_scf (generic function with 1 method)"
      ]
     },
     "execution_count": 49,
     "metadata": {},
     "output_type": "execute_result"
    }
   ],
   "source": [
    "@model [default_meta = ScaleFactorMeta() ] function HMM_scf(n, A, B)\n",
    "    #define variables\n",
    "    z = randomvar(n)\n",
    "    y = datavar(Vector{Float64},n)\n",
    "\n",
    "    cA = constvar(A)\n",
    "    cB = constvar(B)\n",
    "    # define initial state\n",
    "    z_init ~ Categorical([1/3, 1/3, 1/3]) \n",
    "\n",
    "    z_prev = z_init\n",
    "\n",
    "    for t=1:n\n",
    "        z[t] ~ Transition(z_prev, cA) \n",
    "        y[t] ~ Transition(z[t], cB) \n",
    "        z_prev = z[t]\n",
    "    end\n",
    "\n",
    "    return z, y\n",
    "end"
   ]
  },
  {
   "cell_type": "code",
   "execution_count": 50,
   "metadata": {},
   "outputs": [
    {
     "data": {
      "text/plain": [
       "inference (generic function with 1 method)"
      ]
     },
     "execution_count": 50,
     "metadata": {},
     "output_type": "execute_result"
    }
   ],
   "source": [
    "function inference(data, A, B)\n",
    "    n = length(data)\n",
    "    model, (z,y) = HMM_scf(n, A, B)\n",
    "\n",
    "    z_mar = keep(Vector{Marginal})\n",
    "\n",
    "    z_subscript = subscribe!(getmarginals(z), z_mar)\n",
    "\n",
    "    update!(y, data)\n",
    "\n",
    "    unsubscribe!(z_subscript)\n",
    "\n",
    "    return z_mar\n",
    "end"
   ]
  },
  {
   "cell_type": "markdown",
   "metadata": {},
   "source": [
    "### Do inference"
   ]
  },
  {
   "cell_type": "code",
   "execution_count": 51,
   "metadata": {},
   "outputs": [],
   "source": [
    "z_marginals_sf = inference(y_data, A, B);"
   ]
  },
  {
   "cell_type": "code",
   "execution_count": 52,
   "metadata": {},
   "outputs": [
    {
     "name": "stdout",
     "output_type": "stream",
     "text": [
      "5.797739353741411\n",
      "5.797739353741411\n",
      "5.797739353741411\n",
      "5.79773935374141\n",
      "5.79773935374141\n"
     ]
    }
   ],
   "source": [
    "# Compare the (neg-log) scale factor at every edge. We expect they are similar.\n",
    "for i=1:n_samples\n",
    "println(z_marginals_sf.values[][i].data.scale )\n",
    "end"
   ]
  },
  {
   "cell_type": "markdown",
   "metadata": {},
   "source": [
    "## Inference by regular ReactiveMP"
   ]
  },
  {
   "cell_type": "code",
   "execution_count": 53,
   "metadata": {},
   "outputs": [
    {
     "data": {
      "text/plain": [
       "contingency_matrix (generic function with 1 method)"
      ]
     },
     "execution_count": 53,
     "metadata": {},
     "output_type": "execute_result"
    }
   ],
   "source": [
    "contingency_matrix(distribution::Contingency) = distribution.p"
   ]
  },
  {
   "cell_type": "code",
   "execution_count": 54,
   "metadata": {},
   "outputs": [],
   "source": [
    "# Additional rules for Transition node\n",
    "@rule Transition(:in, Marginalisation) (m_out::PointMass, m_a::PointMass, ) = begin \n",
    "    return Categorical((mean(m_a)' * probvec(m_out)) ./ sum(mean(m_a)' * probvec(m_out)))\n",
    "end\n",
    "\n",
    "@rule Transition(:in, Marginalisation) (m_out::Categorical, m_a::PointMass, ) = begin \n",
    "    return Categorical((mean(m_a)' * probvec(m_out)) ./ sum(mean(m_a)' * probvec(m_out)))\n",
    "end\n",
    "\n",
    "# Additional marginal rules for Transition node\n",
    "@marginalrule Transition(:out_in_a) (m_out::Categorical, m_in::Categorical, m_a::PointMass, ) = begin \n",
    "    B = Diagonal(probvec(m_out)) * mean(m_a) * Diagonal(probvec(m_in))\n",
    "    return (out_in = Contingency(B ./ sum(B)), a = m_a)\n",
    "end\n",
    "\n",
    "@marginalrule Transition(:out_in_a) (m_out::PointMass, m_in::Categorical, m_a::PointMass, ) = begin \n",
    "    b = clamp.(mean(m_a)' * probvec(m_out), tiny, Inf);\n",
    "    return (out = m_out, in = prod(ProdAnalytical(), Categorical(b ./ sum(b)), m_in), a = m_a)\n",
    "end\n",
    "\n",
    "# additional marginal rules for Categorical node\n",
    "@marginalrule Categorical(:out_p) (m_out::Categorical, m_p::PointMass, ) = begin \n",
    "    return (out = prod(ProdAnalytical(), Categorical(mean(m_p)), m_out), p = m_p)\n",
    "end\n"
   ]
  },
  {
   "cell_type": "code",
   "execution_count": 55,
   "metadata": {},
   "outputs": [],
   "source": [
    "@average_energy Transition (q_out::Any, q_in::Any, q_a::PointMass) = begin\n",
    "    return -probvec(q_out)' * mean(log,q_a) * probvec(q_in)\n",
    "end\n",
    "\n",
    "@average_energy Transition (q_out_in::Contingency, q_a::PointMass) = begin\n",
    "    return -tr(contingency_matrix(q_out_in)' * mean(log, q_a))\n",
    "end"
   ]
  },
  {
   "cell_type": "code",
   "execution_count": 56,
   "metadata": {},
   "outputs": [
    {
     "data": {
      "text/plain": [
       "HMM (generic function with 1 method)"
      ]
     },
     "execution_count": 56,
     "metadata": {},
     "output_type": "execute_result"
    }
   ],
   "source": [
    "@model function HMM(n, A, B)\n",
    "    #define variables\n",
    "    z = randomvar(n)\n",
    "    y = datavar(Vector{Float64},n)\n",
    "\n",
    "    cA = constvar(A)\n",
    "    cB = constvar(B)\n",
    "    # define initial state\n",
    "    z_init ~ Categorical([1/3, 1/3, 1/3])\n",
    "\n",
    "    z_prev = z_init\n",
    "\n",
    "    for t=1:n\n",
    "        z[t] ~ Transition(z_prev, cA)\n",
    "        y[t] ~ Transition(z[t], cB) \n",
    "        z_prev = z[t]\n",
    "    end\n",
    "\n",
    "    return z, y\n",
    "end"
   ]
  },
  {
   "cell_type": "code",
   "execution_count": 57,
   "metadata": {},
   "outputs": [
    {
     "data": {
      "text/plain": [
       "inference (generic function with 1 method)"
      ]
     },
     "execution_count": 57,
     "metadata": {},
     "output_type": "execute_result"
    }
   ],
   "source": [
    "function inference(data, A, B)\n",
    "    n = length(data)\n",
    "    model, (z,y) = HMM(n, A, B)\n",
    "\n",
    "    z_mar = keep(Vector{Marginal})\n",
    "    FE = keep(Float64)\n",
    "\n",
    "    z_subscript = subscribe!(getmarginals(z), z_mar)\n",
    "    fe_sub = subscribe!(score(Float64,BetheFreeEnergy(), model), FE)\n",
    "\n",
    "    update!(y, data)\n",
    "\n",
    "    unsubscribe!((z_subscript, fe_sub))\n",
    "\n",
    "    return z_mar, FE\n",
    "end"
   ]
  },
  {
   "cell_type": "code",
   "execution_count": 58,
   "metadata": {},
   "outputs": [],
   "source": [
    "z_mar, bfe = inference(y_data, A, B);"
   ]
  },
  {
   "cell_type": "code",
   "execution_count": 59,
   "metadata": {},
   "outputs": [
    {
     "data": {
      "text/plain": [
       "5.797739353741412"
      ]
     },
     "execution_count": 59,
     "metadata": {},
     "output_type": "execute_result"
    }
   ],
   "source": [
    "bfe.values[]"
   ]
  },
  {
   "cell_type": "code",
   "execution_count": 60,
   "metadata": {},
   "outputs": [
    {
     "data": {
      "text/plain": [
       "5.797739353741411"
      ]
     },
     "execution_count": 60,
     "metadata": {},
     "output_type": "execute_result"
    }
   ],
   "source": [
    "sf = z_marginals_sf.values[][1].data.scale"
   ]
  },
  {
   "cell_type": "markdown",
   "metadata": {},
   "source": [
    "## Compare the results between the ScaleFactor-involved and the regular ReactiveMP"
   ]
  },
  {
   "cell_type": "code",
   "execution_count": 61,
   "metadata": {},
   "outputs": [
    {
     "name": "stdout",
     "output_type": "stream",
     "text": [
      "true\n",
      "true\n",
      "true\n",
      "true\n",
      "true\n"
     ]
    }
   ],
   "source": [
    "# Compare the BFE of the regular ReactiveMP with the negative-log scalefactor on every edge. \n",
    "for i=1:n_samples\n",
    "    println(isapprox(bfe.values[], z_marginals_sf.values[][i].data.scale))\n",
    "end"
   ]
  },
  {
   "cell_type": "code",
   "execution_count": 62,
   "metadata": {},
   "outputs": [
    {
     "name": "stdout",
     "output_type": "stream",
     "text": [
      "true\n",
      "true\n",
      "true\n",
      "true\n",
      "true\n"
     ]
    }
   ],
   "source": [
    "# Compare the marginal results of the Scalefactor-involved ReactiveMP and the regular ReactiveMP\n",
    "for i=1:n_samples\n",
    "    println(isapprox(z_mar.values[][i].data.p, z_marginals_sf.values[][i].data.message.p))\n",
    "end"
   ]
  }
 ],
 "metadata": {
  "kernelspec": {
   "display_name": "Julia 1.7.1",
   "language": "julia",
   "name": "julia-1.7"
  },
  "language_info": {
   "file_extension": ".jl",
   "mimetype": "application/julia",
   "name": "julia",
   "version": "1.7.1"
  },
  "orig_nbformat": 4
 },
 "nbformat": 4,
 "nbformat_minor": 2
}
