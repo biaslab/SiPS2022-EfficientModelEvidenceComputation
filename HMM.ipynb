{
 "cells": [
  {
   "cell_type": "markdown",
   "metadata": {},
   "source": [
    "## Import packages"
   ]
  },
  {
   "cell_type": "code",
   "execution_count": 1,
   "metadata": {},
   "outputs": [
    {
     "name": "stderr",
     "output_type": "stream",
     "text": [
      "┌ Info: Precompiling ReactiveMP [a194aa59-28ba-4574-a09c-4a745416d6e3]\n",
      "└ @ Base loading.jl:1423\n"
     ]
    }
   ],
   "source": [
    "using Revise\n",
    "using ReactiveMP, Rocket, GraphPPL, Distributions\n",
    "using LinearAlgebra, Random\n",
    "using BenchmarkTools"
   ]
  },
  {
   "cell_type": "markdown",
   "metadata": {},
   "source": [
    "## Settings"
   ]
  },
  {
   "cell_type": "code",
   "execution_count": 2,
   "metadata": {},
   "outputs": [],
   "source": [
    "# seed for reproducibility\n",
    "rng = MersenneTwister(1234)\n",
    "\n",
    "# model parameters\n",
    "A = [0.6 0.1 0.2; 0.3 0.7 0.3; 0.1 0.2 0.5];    # Process transition\n",
    "B = [0.8 0.25 0.1; 0.1 0.5 0.6; 0.1 0.25 0.3];  # Observation transition\n",
    "z0 = [1.0, 0.0, 0.0]; # Initial state\n",
    "\n",
    "# benchmark settings\n",
    "BenchmarkTools.DEFAULT_PARAMETERS.seconds = 60;"
   ]
  },
  {
   "cell_type": "markdown",
   "metadata": {},
   "source": [
    "## Generate data"
   ]
  },
  {
   "cell_type": "code",
   "execution_count": 3,
   "metadata": {},
   "outputs": [],
   "source": [
    "function onehot_vec(dist::Categorical, rng)\n",
    "    k = ncategories(dist); # get the number of categories\n",
    "    x = zeros(k);\n",
    "    x[rand(rng, dist)] = 1.0;\n",
    "\n",
    "    return x\n",
    "end\n",
    "\n",
    "function generate_data(rng, z0, A, B; nr_samples=10)\n",
    "\n",
    "    z = Vector{Vector{Float64}}(undef, nr_samples) # one-hot encoded state\n",
    "    y = Vector{Vector{Float64}}(undef, nr_samples) # one-hot encoded observation\n",
    "\n",
    "    z_prev = z0;\n",
    "    for t = 1:nr_samples\n",
    "        z[t] = onehot_vec(Categorical(A*z_prev), rng)\n",
    "        y[t] = onehot_vec(Categorical(B*z[t]), rng)\n",
    "        z_prev = z[t]\n",
    "    end\n",
    "    \n",
    "    return y\n",
    "end;"
   ]
  },
  {
   "cell_type": "markdown",
   "metadata": {},
   "source": [
    "## ReactiveMP.jl scale factor extension"
   ]
  },
  {
   "cell_type": "code",
   "execution_count": 4,
   "metadata": {},
   "outputs": [
    {
     "ename": "LoadError",
     "evalue": "UndefVarError: ScaleFactorMeta not defined",
     "output_type": "error",
     "traceback": [
      "UndefVarError: ScaleFactorMeta not defined",
      "",
      "Stacktrace:",
      " [1] top-level scope",
      "   @ d:\\OneDrive - TU Eindhoven\\phd\\Projects\\Packages\\ReactiveMP.jl\\src\\rule.jl:187",
      " [2] eval",
      "   @ .\\boot.jl:373 [inlined]",
      " [3] include_string(mapexpr::typeof(REPL.softscope), mod::Module, code::String, filename::String)",
      "   @ Base .\\loading.jl:1196"
     ]
    }
   ],
   "source": [
    "@rule Transition(:out, Marginalisation) (m_in::Categorical, m_a::PointMass, meta::ScaleFactorMeta) = begin \n",
    "    message = @call_rule Transition(:out, Marginalisation) (m_in = m_in, m_a = m_a)\n",
    "    scalefactor = 0.0\n",
    "    return ScaledMessage(message, scalefactor)\n",
    "end\n",
    "\n",
    "@rule Transition(:out, Marginalisation) (m_in::ScaledMessage, m_a::PointMass, meta::ScaleFactorMeta) = begin \n",
    "    A = mean(m_a)\n",
    "    message = @call_rule Transition(:out, Marginalisation) (m_in = m_in.message, m_a = m_a)\n",
    "    scalefactor = m_in.scale \n",
    "    return ScaledMessage(message, scalefactor)\n",
    "end\n",
    "\n",
    "@rule Transition(:in, Marginalisation) (m_out::PointMass, m_a::PointMass, meta::ScaleFactorMeta) = begin \n",
    "    A = mean(m_a)\n",
    "    message = Categorical((A' * probvec(m_out)) ./ sum(A' * probvec(m_out)))\n",
    "    scalefactor = -log(sum(A' * probvec(m_out)))\n",
    "    return ScaledMessage(message, scalefactor)\n",
    "end\n",
    "\n",
    "@rule Transition(:in, Marginalisation) (m_out::ScaledMessage, m_a::PointMass, meta::ScaleFactorMeta) = begin \n",
    "    A = mean(m_a)\n",
    "    message = Categorical((A' * probvec(m_out.message)) ./ sum(A' * probvec(m_out.message)))\n",
    "    scalefactor = m_out.scale - log(sum(A' * probvec(m_out.message)))\n",
    "\n",
    "    return ScaledMessage(message, scalefactor)\n",
    "end;"
   ]
  },
  {
   "cell_type": "code",
   "execution_count": null,
   "metadata": {},
   "outputs": [],
   "source": [
    "#Product function for equality node\n",
    "function ReactiveMP.prod(::ProdAnalytical, left::ScaledMessage{ <: Categorical }, right::ScaledMessage{ <:Categorical })\n",
    "    mean_left = probvec(left.message)\n",
    "    mean_right = probvec(right.message)\n",
    "\n",
    "    message = prod(ProdAnalytical(),left.message,right.message)\n",
    "    scalefactor = left.scale + right.scale - log(dot(mean_left, mean_right))\n",
    "\n",
    "    return ScaledMessage(message,scalefactor)\n",
    "end;"
   ]
  },
  {
   "cell_type": "markdown",
   "metadata": {},
   "source": [
    "## Inference by ReactiveMP (scale factors)"
   ]
  },
  {
   "cell_type": "code",
   "execution_count": null,
   "metadata": {},
   "outputs": [],
   "source": [
    "@model [ default_meta = ScaleFactorMeta() ] function model_hmm_scalefactor(A, B; nr_samples=10)\n",
    "    #define variables\n",
    "    z = randomvar(nr_samples)\n",
    "    y = datavar(Vector{Float64},nr_samples)\n",
    "\n",
    "    cA = constvar(A)\n",
    "    cB = constvar(B)\n",
    "\n",
    "    # define initial state\n",
    "    z_init ~ Categorical([1/3, 1/3, 1/3]) \n",
    "\n",
    "    z_prev = z_init\n",
    "\n",
    "    for n = 1:nr_samples\n",
    "        z[n] ~ Transition(z_prev, cA) \n",
    "        y[n] ~ Transition(z[n], cB) \n",
    "        z_prev = z[n]\n",
    "    end\n",
    "\n",
    "    return z, y\n",
    "end"
   ]
  },
  {
   "cell_type": "code",
   "execution_count": null,
   "metadata": {},
   "outputs": [],
   "source": [
    "function inference_hmm_scalefactor(data, A, B; nr_samples=10)\n",
    "\n",
    "    model, (z, y) = model_hmm_scalefactor(A, B; nr_samples=nr_samples, options = (limit_stack_depth = 500, ));\n",
    "\n",
    "    z_mar = keep(Vector{Marginal})\n",
    "\n",
    "    z_subscript = subscribe!(getmarginals(z), z_mar)\n",
    "\n",
    "    bmark_scf = @benchmark update!($y, $data)\n",
    "\n",
    "    unsubscribe!(z_subscript)\n",
    "\n",
    "    return z_mar, bmark_scf\n",
    "end"
   ]
  },
  {
   "cell_type": "markdown",
   "metadata": {},
   "source": [
    "## Inference by ReactiveMP (Bethe free energy)"
   ]
  },
  {
   "cell_type": "code",
   "execution_count": 5,
   "metadata": {},
   "outputs": [
    {
     "data": {
      "text/plain": [
       "model_hmm_bfe (generic function with 1 method)"
      ]
     },
     "execution_count": 5,
     "metadata": {},
     "output_type": "execute_result"
    }
   ],
   "source": [
    "@model function model_hmm_bfe(A, B; nr_samples=10)\n",
    "    #define variables\n",
    "    z = randomvar(nr_samples)\n",
    "    y = datavar(Vector{Float64}, nr_samples)\n",
    "\n",
    "    cA = constvar(A)\n",
    "    cB = constvar(B)\n",
    "    \n",
    "    # define initial state\n",
    "    z_init ~ Categorical([1/3, 1/3, 1/3])\n",
    "\n",
    "    z_prev = z_init\n",
    "\n",
    "    for n = 1:nr_samples\n",
    "        z[n] ~ Transition(z_prev, cA)\n",
    "        y[n] ~ Transition(z[n], cB) \n",
    "        z_prev = z[n]\n",
    "    end\n",
    "\n",
    "    return z, y\n",
    "end"
   ]
  },
  {
   "cell_type": "code",
   "execution_count": 6,
   "metadata": {},
   "outputs": [
    {
     "data": {
      "text/plain": [
       "inference_hmm_bfe (generic function with 1 method)"
      ]
     },
     "execution_count": 6,
     "metadata": {},
     "output_type": "execute_result"
    }
   ],
   "source": [
    "function inference_hmm_bfe(data, A, B; nr_samples=10)\n",
    "    \n",
    "    model, (z, y) = model_hmm_bfe(A, B; nr_samples=nr_samples, options = (limit_stack_depth = 500, ));\n",
    "\n",
    "    z_mar = keep(Vector{Marginal})\n",
    "    FE = keep(Float64)\n",
    "\n",
    "    z_subscript = subscribe!(getmarginals(z), z_mar)\n",
    "    fe_sub = subscribe!(score(Float64,BetheFreeEnergy(), model), FE)\n",
    "\n",
    "    bmark = @benchmark update!($y, $data)\n",
    "\n",
    "    unsubscribe!((z_subscript, fe_sub))\n",
    "\n",
    "    return z_mar, FE, bmark\n",
    "end"
   ]
  },
  {
   "cell_type": "markdown",
   "metadata": {},
   "source": [
    "## Correctness check and performance comparison"
   ]
  },
  {
   "cell_type": "markdown",
   "metadata": {},
   "source": [
    "#### Scale factors (N=10)"
   ]
  },
  {
   "cell_type": "code",
   "execution_count": 7,
   "metadata": {},
   "outputs": [],
   "source": [
    "data = generate_data(rng, z0, A, B; nr_samples=10);"
   ]
  },
  {
   "cell_type": "code",
   "execution_count": null,
   "metadata": {},
   "outputs": [],
   "source": [
    "zmarginals_sf, bmark_sf = inference_hmm_scalefactor(data, A, B; nr_samples=10);\n",
    "println(-zmarginals_sf[end][end].data.scale)\n",
    "bmark_sf"
   ]
  },
  {
   "cell_type": "markdown",
   "metadata": {},
   "source": [
    "#### Bethe free energy (N=10)"
   ]
  },
  {
   "cell_type": "code",
   "execution_count": 8,
   "metadata": {},
   "outputs": [
    {
     "name": "stdout",
     "output_type": "stream",
     "text": [
      "-10.76379656357213\n"
     ]
    },
    {
     "data": {
      "text/plain": [
       "BenchmarkTools.Trial: 10000 samples with 1 evaluation.\n",
       " Range \u001b[90m(\u001b[39m\u001b[36m\u001b[1mmin\u001b[22m\u001b[39m … \u001b[35mmax\u001b[39m\u001b[90m):  \u001b[39m\u001b[36m\u001b[1m 82.400 μs\u001b[22m\u001b[39m … \u001b[35m111.910 ms\u001b[39m  \u001b[90m┊\u001b[39m GC \u001b[90m(\u001b[39mmin … max\u001b[90m): \u001b[39m 0.00% … 99.79%\n",
       " Time  \u001b[90m(\u001b[39m\u001b[34m\u001b[1mmedian\u001b[22m\u001b[39m\u001b[90m):     \u001b[39m\u001b[34m\u001b[1m107.900 μs               \u001b[22m\u001b[39m\u001b[90m┊\u001b[39m GC \u001b[90m(\u001b[39mmedian\u001b[90m):    \u001b[39m 0.00%\n",
       " Time  \u001b[90m(\u001b[39m\u001b[32m\u001b[1mmean\u001b[22m\u001b[39m ± \u001b[32mσ\u001b[39m\u001b[90m):   \u001b[39m\u001b[32m\u001b[1m133.897 μs\u001b[22m\u001b[39m ± \u001b[32m  1.517 ms\u001b[39m  \u001b[90m┊\u001b[39m GC \u001b[90m(\u001b[39mmean ± σ\u001b[90m):  \u001b[39m15.98% ±  1.41%\n",
       "\n",
       "  \u001b[39m \u001b[39m▇\u001b[39m▁\u001b[39m \u001b[39m \u001b[39m \u001b[39m \u001b[39m▄\u001b[39m▆\u001b[34m█\u001b[39m\u001b[39m▇\u001b[39m▃\u001b[39m \u001b[39m \u001b[39m \u001b[39m \u001b[39m \u001b[39m \u001b[39m \u001b[32m \u001b[39m\u001b[39m \u001b[39m \u001b[39m \u001b[39m \u001b[39m \u001b[39m \u001b[39m \u001b[39m \u001b[39m \u001b[39m \u001b[39m \u001b[39m \u001b[39m \u001b[39m \u001b[39m \u001b[39m \u001b[39m \u001b[39m \u001b[39m \u001b[39m \u001b[39m \u001b[39m \u001b[39m \u001b[39m \u001b[39m \u001b[39m \u001b[39m \u001b[39m \u001b[39m \u001b[39m \u001b[39m \u001b[39m \u001b[39m \u001b[39m \u001b[39m \u001b[39m \u001b[39m \u001b[39m \u001b[39m \u001b[39m \u001b[39m \u001b[39m \u001b[39m \n",
       "  \u001b[39m▅\u001b[39m█\u001b[39m█\u001b[39m▆\u001b[39m▇\u001b[39m▇\u001b[39m█\u001b[39m█\u001b[39m█\u001b[34m█\u001b[39m\u001b[39m█\u001b[39m█\u001b[39m█\u001b[39m▆\u001b[39m▅\u001b[39m▅\u001b[39m▄\u001b[39m▄\u001b[39m▃\u001b[32m▄\u001b[39m\u001b[39m▃\u001b[39m▂\u001b[39m▂\u001b[39m▂\u001b[39m▂\u001b[39m▂\u001b[39m▂\u001b[39m▁\u001b[39m▁\u001b[39m▁\u001b[39m▁\u001b[39m▁\u001b[39m▁\u001b[39m▁\u001b[39m▁\u001b[39m▁\u001b[39m▁\u001b[39m▁\u001b[39m▁\u001b[39m▁\u001b[39m▁\u001b[39m▁\u001b[39m▁\u001b[39m▁\u001b[39m▁\u001b[39m▁\u001b[39m▁\u001b[39m▁\u001b[39m▁\u001b[39m▁\u001b[39m▁\u001b[39m▁\u001b[39m▁\u001b[39m▁\u001b[39m▁\u001b[39m▁\u001b[39m▁\u001b[39m▁\u001b[39m▁\u001b[39m▁\u001b[39m▁\u001b[39m \u001b[39m▃\n",
       "  82.4 μs\u001b[90m          Histogram: frequency by time\u001b[39m          248 μs \u001b[0m\u001b[1m<\u001b[22m\n",
       "\n",
       " Memory estimate\u001b[90m: \u001b[39m\u001b[33m80.20 KiB\u001b[39m, allocs estimate\u001b[90m: \u001b[39m\u001b[33m1465\u001b[39m."
      ]
     },
     "execution_count": 8,
     "metadata": {},
     "output_type": "execute_result"
    }
   ],
   "source": [
    "zmarginals, bfe, bmark_bfe = inference_hmm_bfe(data, A, B; nr_samples=10)\n",
    "println(-bfe[end])\n",
    "bmark_bfe"
   ]
  },
  {
   "cell_type": "markdown",
   "metadata": {},
   "source": [
    "#### Scale factors (N=100)"
   ]
  },
  {
   "cell_type": "code",
   "execution_count": null,
   "metadata": {},
   "outputs": [],
   "source": [
    "data = generate_data(rng, z0, A, B; nr_samples=100);"
   ]
  },
  {
   "cell_type": "code",
   "execution_count": null,
   "metadata": {},
   "outputs": [],
   "source": [
    "zmarginals_sf, bmark_sf = inference_hmm_scalefactor(data, A, B; nr_samples=100);\n",
    "println(-zmarginals_sf[end][end].data.scale)\n",
    "bmark_sf"
   ]
  },
  {
   "cell_type": "markdown",
   "metadata": {},
   "source": [
    "#### Bethe free energy (N=100)"
   ]
  },
  {
   "cell_type": "code",
   "execution_count": null,
   "metadata": {},
   "outputs": [],
   "source": [
    "zmarginals, bfe, bmark_bfe = inference_hmm_bfe(data, A, B; nr_samples=100)\n",
    "println(-bfe[end])\n",
    "bmark_bfe"
   ]
  },
  {
   "cell_type": "markdown",
   "metadata": {},
   "source": [
    "#### Scale factors (N=1000)"
   ]
  },
  {
   "cell_type": "code",
   "execution_count": null,
   "metadata": {},
   "outputs": [],
   "source": [
    "data = generate_data(rng, z0, A, B; nr_samples=1000);"
   ]
  },
  {
   "cell_type": "code",
   "execution_count": null,
   "metadata": {},
   "outputs": [],
   "source": [
    "zmarginals_sf, bmark_sf = inference_hmm_scalefactor(data, A, B; nr_samples=1000);\n",
    "println(-zmarginals_sf[end][end].data.scale)\n",
    "bmark_sf"
   ]
  },
  {
   "cell_type": "markdown",
   "metadata": {},
   "source": [
    "#### Bethe free energy (N=1000)"
   ]
  },
  {
   "cell_type": "code",
   "execution_count": null,
   "metadata": {},
   "outputs": [],
   "source": [
    "zmarginals, bfe, bmark_bfe = inference_hmm_bfe(data, A, B; nr_samples=1000)\n",
    "println(-bfe[end])\n",
    "bmark_bfe"
   ]
  }
 ],
 "metadata": {
  "kernelspec": {
   "display_name": "Julia 1.7.0",
   "language": "julia",
   "name": "julia-1.7"
  },
  "language_info": {
   "file_extension": ".jl",
   "mimetype": "application/julia",
   "name": "julia",
   "version": "1.7.0"
  },
  "orig_nbformat": 4
 },
 "nbformat": 4,
 "nbformat_minor": 2
}
