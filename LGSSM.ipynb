{
 "cells": [
  {
   "cell_type": "markdown",
   "metadata": {},
   "source": [
    "## Import packages"
   ]
  },
  {
   "cell_type": "code",
   "execution_count": 1,
   "metadata": {},
   "outputs": [],
   "source": [
    "using Revise\n",
    "using Rocket, GraphPPL, ReactiveMP, Distributions, SpecialFunctions\n",
    "using LinearAlgebra, Random, BenchmarkTools;"
   ]
  },
  {
   "cell_type": "markdown",
   "metadata": {},
   "source": [
    "## Settings"
   ]
  },
  {
   "cell_type": "code",
   "execution_count": 2,
   "metadata": {},
   "outputs": [],
   "source": [
    "# seed for reproducibility\n",
    "rng = MersenneTwister(1234)\n",
    "\n",
    "# state space parameters\n",
    "A = [ 1.001 1.6; 0 1 ]\n",
    "B = diageye(2)\n",
    "Q = diageye(2)\n",
    "P = 25.0 .* diageye(2)\n",
    "z0 = MvNormalMeanCovariance(zeros(2), 100.0 * diageye(2))\n",
    "\n",
    "# benchmark settings\n",
    "BenchmarkTools.DEFAULT_PARAMETERS.seconds = 60;"
   ]
  },
  {
   "cell_type": "markdown",
   "metadata": {},
   "source": [
    "## Generate data"
   ]
  },
  {
   "cell_type": "code",
   "execution_count": 3,
   "metadata": {},
   "outputs": [],
   "source": [
    "# generate data function\n",
    "function generate_data(rng, A, B, Q, P; nr_samples=10)\n",
    "    z_prev = [ 10.0, -10.0 ]\n",
    "\n",
    "    z = Vector{Vector{Float64}}(undef, nr_samples)\n",
    "    y = Vector{Vector{Float64}}(undef, nr_samples)\n",
    "\n",
    "    for i in 1:nr_samples\n",
    "        z[i] = rand(rng, MvNormal(A * z_prev, Q))\n",
    "        y[i] = rand(rng, MvNormal(B * z[i], P))\n",
    "        z_prev = z[i]\n",
    "    end\n",
    "    \n",
    "    return z, y\n",
    "end;"
   ]
  },
  {
   "cell_type": "markdown",
   "metadata": {},
   "source": [
    "## ReactiveMP.jl scalefactor extension"
   ]
  },
  {
   "cell_type": "code",
   "execution_count": 4,
   "metadata": {},
   "outputs": [],
   "source": [
    "using StatsFuns: log2π"
   ]
  },
  {
   "cell_type": "code",
   "execution_count": 5,
   "metadata": {},
   "outputs": [
    {
     "data": {
      "text/plain": [
       "getall (generic function with 1 method)"
      ]
     },
     "execution_count": 5,
     "metadata": {},
     "output_type": "execute_result"
    }
   ],
   "source": [
    "function getall(dist::MvNormalMeanPrecision)\n",
    "    μ, Λ = mean_precision(dist)\n",
    "    ξ = Λ*μ\n",
    "    Σ = cholinv(Λ)\n",
    "    return μ, ξ, Σ, Λ\n",
    "end"
   ]
  },
  {
   "cell_type": "code",
   "execution_count": 6,
   "metadata": {},
   "outputs": [
    {
     "data": {
      "text/plain": [
       "getall (generic function with 2 methods)"
      ]
     },
     "execution_count": 6,
     "metadata": {},
     "output_type": "execute_result"
    }
   ],
   "source": [
    "function getall(dist::MvNormalMeanCovariance)\n",
    "    μ, Σ = mean_cov(dist)\n",
    "    Λ = cholinv(Σ)\n",
    "    ξ = Λ*μ\n",
    "    return μ, ξ, Σ, Λ\n",
    "end"
   ]
  },
  {
   "cell_type": "code",
   "execution_count": 7,
   "metadata": {},
   "outputs": [
    {
     "data": {
      "text/plain": [
       "getall (generic function with 3 methods)"
      ]
     },
     "execution_count": 7,
     "metadata": {},
     "output_type": "execute_result"
    }
   ],
   "source": [
    "function getall(dist::MvNormalWeightedMeanPrecision)\n",
    "    ξ, Λ = weightedmean_precision(dist)\n",
    "    Σ = cholinv(Λ)\n",
    "    μ = Σ*ξ\n",
    "    return μ, ξ, Σ, Λ\n",
    "end"
   ]
  },
  {
   "cell_type": "code",
   "execution_count": 8,
   "metadata": {},
   "outputs": [],
   "source": [
    "#Product function for equality node\n",
    "function ReactiveMP.prod(::ProdAnalytical, left::ScaledMessage{ <: MultivariateNormalDistributionsFamily }, right::ScaledMessage{ <: MultivariateNormalDistributionsFamily })\n",
    "    μ_left, ξ_left, Σ_left, Λ_left = getall(left.message)\n",
    "    μ_right, ξ_right, Σ_right, Λ_right = getall(right.message)\n",
    "\n",
    "    n = length(μ_left)\n",
    "\n",
    "    m = μ_left - μ_right\n",
    "    V = Σ_left + Σ_right\n",
    "\n",
    "    message = MvNormalWeightedMeanPrecision(ξ_left + ξ_right, Λ_left + Λ_right)\n",
    "\n",
    "    iV, logdetV = ReactiveMP.cholinv_logdet(V)\n",
    "\n",
    "    scale = left.scale + right.scale + logdetV/2 + n/2*log2π + dot(m,iV,m)/2\n",
    "\n",
    "    return ScaledMessage(message,scale)\n",
    "end"
   ]
  },
  {
   "cell_type": "markdown",
   "metadata": {},
   "source": [
    "## Inference by ReactiveMP (scale factors)"
   ]
  },
  {
   "cell_type": "code",
   "execution_count": 9,
   "metadata": {},
   "outputs": [
    {
     "data": {
      "text/plain": [
       "model_lgssm_scalefactor (generic function with 1 method)"
      ]
     },
     "execution_count": 9,
     "metadata": {},
     "output_type": "execute_result"
    }
   ],
   "source": [
    "# define model with meta = scalefactormeta\n",
    "@model [ default_meta=ScaleFactorMeta() ] function model_lgssm_scalefactor(z0, A, B, Q, P; nr_samples=10)\n",
    "\n",
    "    # we create constant variables for better efficiency\n",
    "    cA = constvar(A)\n",
    "    cB = constvar(B)\n",
    "    cQ = constvar(Q)\n",
    "    cP = constvar(P)\n",
    "        \n",
    "    # `z` is a sequence of hidden states\n",
    "    z = randomvar(nr_samples)\n",
    "\n",
    "    # `y` is a sequence of \"clamped\" observations\n",
    "    y = datavar(Vector{Float64}, nr_samples)\n",
    "        \n",
    "    z_prior ~ MvNormalMeanCovariance(mean(z0), cov(z0))\n",
    "    z_prev = z_prior\n",
    "        \n",
    "    for i in 1:nr_samples\n",
    "        z[i] ~ MvNormalMeanCovariance(cA * z_prev, cQ)\n",
    "        y[i] ~ MvNormalMeanCovariance(cB * z[i], cP)\n",
    "        z_prev = z[i]\n",
    "    end\n",
    "        \n",
    "    return z, y\n",
    "end"
   ]
  },
  {
   "cell_type": "code",
   "execution_count": 10,
   "metadata": {},
   "outputs": [
    {
     "data": {
      "text/plain": [
       "inference_lgssm_scalefactor (generic function with 1 method)"
      ]
     },
     "execution_count": 10,
     "metadata": {},
     "output_type": "execute_result"
    }
   ],
   "source": [
    "#Now we do inference\n",
    "function inference_lgssm_scalefactor(data, z0, A, B, Q, P; nr_samples=10)\n",
    "\n",
    "    # We create a model and get references for \n",
    "    # hidden states and observations\n",
    "    model, (z, y) = model_lgssm_scalefactor(z0, A, B, Q, P; nr_samples=nr_samples, options = (limit_stack_depth = 500, ));\n",
    "\n",
    "    zbuffer   = buffer(Marginal, nr_samples)\n",
    "    \n",
    "    # We subscribe on posterior marginals of `z`\n",
    "    zsubscription = subscribe!(getmarginals(z), zbuffer)\n",
    "\n",
    "    # `update!` updates our clamped datavars\n",
    "    bmark_scalefactors = @benchmark update!($y, $data)\n",
    "\n",
    "    # It is important to always unsubscribe\n",
    "    unsubscribe!(zsubscription)\n",
    "    \n",
    "    return zbuffer, bmark_scalefactors\n",
    "end"
   ]
  },
  {
   "cell_type": "markdown",
   "metadata": {},
   "source": [
    "## Inference by ReactiveMP (Bethe free energy)"
   ]
  },
  {
   "cell_type": "code",
   "execution_count": 11,
   "metadata": {},
   "outputs": [
    {
     "data": {
      "text/plain": [
       "model_lgssm_bfe (generic function with 1 method)"
      ]
     },
     "execution_count": 11,
     "metadata": {},
     "output_type": "execute_result"
    }
   ],
   "source": [
    "@model function model_lgssm_bfe(z0, A, B, Q, P; nr_samples=10)\n",
    "    \n",
    "    # We create constvar references for better efficiency\n",
    "    cA = constvar(A)\n",
    "    cB = constvar(B)\n",
    "    cQ = constvar(Q)\n",
    "    cP = constvar(P)\n",
    "    \n",
    "    # `z` is a sequence of hidden states\n",
    "    z = randomvar(nr_samples)\n",
    "    # `y` is a sequence of \"clamped\" observations\n",
    "    y = datavar(Vector{Float64}, nr_samples)\n",
    "    \n",
    "    z_prior ~ MvNormalMeanCovariance(mean(z0), cov(z0))\n",
    "    z_prev = z_prior\n",
    "    \n",
    "    for i in 1:nr_samples\n",
    "        z[i] ~ MvNormalMeanCovariance(cA * z_prev, cQ)\n",
    "        y[i] ~ MvNormalMeanCovariance(cB * z[i], cP)\n",
    "        z_prev = z[i]\n",
    "    end\n",
    "    \n",
    "    return z, y\n",
    "end"
   ]
  },
  {
   "cell_type": "code",
   "execution_count": 12,
   "metadata": {},
   "outputs": [
    {
     "data": {
      "text/plain": [
       "inference_lgssm_bfe (generic function with 1 method)"
      ]
     },
     "execution_count": 12,
     "metadata": {},
     "output_type": "execute_result"
    }
   ],
   "source": [
    "function inference_lgssm_bfe(data, z0, A, B, Q, P; nr_samples=10)\n",
    "    \n",
    "    # We create a model and get references for \n",
    "    # hidden states and observations\n",
    "    model, (z, y) = model_lgssm_bfe(z0, A, B, Q, P; nr_samples=nr_samples, options = (limit_stack_depth = 500, ));\n",
    "\n",
    "    zbuffer   = buffer(Marginal, nr_samples)\n",
    "    bfe       = nothing\n",
    "    \n",
    "    # We subscribe on posterior marginals of `x`\n",
    "    zsubscription = subscribe!(getmarginals(z), zbuffer)\n",
    "    # We are also intereset in BetheFreeEnergy functional,\n",
    "    # which in this case is equal to minus log evidence\n",
    "    bfe_subcription = subscribe!(score(BetheFreeEnergy(), model), (v) -> bfe = v)\n",
    "\n",
    "    # `update!` updates our clamped datavars\n",
    "    bmark_bfe = @benchmark update!($y, $data)\n",
    "\n",
    "    # It is important to always unsubscribe\n",
    "    unsubscribe!((zsubscription, bfe_subcription))\n",
    "    \n",
    "    return zbuffer, bfe, bmark_bfe\n",
    "end"
   ]
  },
  {
   "cell_type": "markdown",
   "metadata": {},
   "source": [
    "## Correctness check and performance comparison"
   ]
  },
  {
   "cell_type": "markdown",
   "metadata": {},
   "source": [
    "#### Scale factors (N=10)"
   ]
  },
  {
   "cell_type": "code",
   "execution_count": 13,
   "metadata": {},
   "outputs": [],
   "source": [
    "_, data = generate_data(rng, A, B, Q, P; nr_samples=10);"
   ]
  },
  {
   "cell_type": "code",
   "execution_count": 14,
   "metadata": {},
   "outputs": [
    {
     "name": "stdout",
     "output_type": "stream",
     "text": [
      "-65.37723230272508\n"
     ]
    },
    {
     "data": {
      "text/plain": [
       "BenchmarkTools.Trial: 10000 samples with 1 evaluation.\n",
       " Range \u001b[90m(\u001b[39m\u001b[36m\u001b[1mmin\u001b[22m\u001b[39m … \u001b[35mmax\u001b[39m\u001b[90m):  \u001b[39m\u001b[36m\u001b[1m128.100 μs\u001b[22m\u001b[39m … \u001b[35m  7.860 ms\u001b[39m  \u001b[90m┊\u001b[39m GC \u001b[90m(\u001b[39mmin … max\u001b[90m): \u001b[39m0.00% … 96.53%\n",
       " Time  \u001b[90m(\u001b[39m\u001b[34m\u001b[1mmedian\u001b[22m\u001b[39m\u001b[90m):     \u001b[39m\u001b[34m\u001b[1m135.700 μs               \u001b[22m\u001b[39m\u001b[90m┊\u001b[39m GC \u001b[90m(\u001b[39mmedian\u001b[90m):    \u001b[39m0.00%\n",
       " Time  \u001b[90m(\u001b[39m\u001b[32m\u001b[1mmean\u001b[22m\u001b[39m ± \u001b[32mσ\u001b[39m\u001b[90m):   \u001b[39m\u001b[32m\u001b[1m151.930 μs\u001b[22m\u001b[39m ± \u001b[32m243.586 μs\u001b[39m  \u001b[90m┊\u001b[39m GC \u001b[90m(\u001b[39mmean ± σ\u001b[90m):  \u001b[39m6.29% ±  3.86%\n",
       "\n",
       "  \u001b[39m▄\u001b[39m▇\u001b[39m█\u001b[34m▇\u001b[39m\u001b[39m▆\u001b[39m▅\u001b[39m▄\u001b[39m▄\u001b[39m▃\u001b[39m▃\u001b[32m▂\u001b[39m\u001b[39m▂\u001b[39m▃\u001b[39m▃\u001b[39m▁\u001b[39m▁\u001b[39m \u001b[39m▁\u001b[39m▁\u001b[39m▁\u001b[39m \u001b[39m \u001b[39m \u001b[39m \u001b[39m \u001b[39m \u001b[39m \u001b[39m \u001b[39m \u001b[39m \u001b[39m \u001b[39m \u001b[39m \u001b[39m \u001b[39m \u001b[39m \u001b[39m \u001b[39m \u001b[39m \u001b[39m \u001b[39m \u001b[39m \u001b[39m \u001b[39m \u001b[39m \u001b[39m \u001b[39m \u001b[39m \u001b[39m \u001b[39m \u001b[39m \u001b[39m \u001b[39m \u001b[39m \u001b[39m \u001b[39m \u001b[39m \u001b[39m \u001b[39m \u001b[39m \u001b[39m \u001b[39m \u001b[39m▂\n",
       "  \u001b[39m█\u001b[39m█\u001b[39m█\u001b[34m█\u001b[39m\u001b[39m█\u001b[39m█\u001b[39m█\u001b[39m█\u001b[39m█\u001b[39m█\u001b[32m█\u001b[39m\u001b[39m█\u001b[39m█\u001b[39m█\u001b[39m█\u001b[39m█\u001b[39m█\u001b[39m█\u001b[39m█\u001b[39m█\u001b[39m█\u001b[39m█\u001b[39m█\u001b[39m▇\u001b[39m▇\u001b[39m▇\u001b[39m█\u001b[39m▆\u001b[39m▆\u001b[39m▅\u001b[39m▇\u001b[39m▆\u001b[39m▇\u001b[39m▆\u001b[39m▆\u001b[39m▅\u001b[39m▆\u001b[39m▇\u001b[39m▆\u001b[39m▇\u001b[39m▆\u001b[39m▄\u001b[39m▆\u001b[39m▅\u001b[39m▇\u001b[39m▆\u001b[39m▅\u001b[39m▄\u001b[39m▄\u001b[39m▁\u001b[39m▅\u001b[39m▆\u001b[39m▅\u001b[39m▅\u001b[39m▃\u001b[39m▅\u001b[39m▄\u001b[39m▄\u001b[39m▄\u001b[39m▅\u001b[39m▄\u001b[39m \u001b[39m█\n",
       "  128 μs\u001b[90m        \u001b[39m\u001b[90mHistogram: \u001b[39m\u001b[90m\u001b[1mlog(\u001b[22m\u001b[39m\u001b[90mfrequency\u001b[39m\u001b[90m\u001b[1m)\u001b[22m\u001b[39m\u001b[90m by time\u001b[39m        270 μs \u001b[0m\u001b[1m<\u001b[22m\n",
       "\n",
       " Memory estimate\u001b[90m: \u001b[39m\u001b[33m94.64 KiB\u001b[39m, allocs estimate\u001b[90m: \u001b[39m\u001b[33m1336\u001b[39m."
      ]
     },
     "execution_count": 14,
     "metadata": {},
     "output_type": "execute_result"
    }
   ],
   "source": [
    "xmarginals_sf, bmark_sf = inference_lgssm_scalefactor(data, z0, A, B, Q, P; nr_samples=10);\n",
    "println(-xmarginals_sf[end].data.scale)\n",
    "bmark_sf"
   ]
  },
  {
   "cell_type": "markdown",
   "metadata": {},
   "source": [
    "#### Bethe free energy (N=10)"
   ]
  },
  {
   "cell_type": "code",
   "execution_count": 15,
   "metadata": {},
   "outputs": [
    {
     "name": "stdout",
     "output_type": "stream",
     "text": [
      "-65.3772323030775\n"
     ]
    },
    {
     "data": {
      "text/plain": [
       "BenchmarkTools.Trial: 10000 samples with 1 evaluation.\n",
       " Range \u001b[90m(\u001b[39m\u001b[36m\u001b[1mmin\u001b[22m\u001b[39m … \u001b[35mmax\u001b[39m\u001b[90m):  \u001b[39m\u001b[36m\u001b[1m252.300 μs\u001b[22m\u001b[39m … \u001b[35m 12.388 ms\u001b[39m  \u001b[90m┊\u001b[39m GC \u001b[90m(\u001b[39mmin … max\u001b[90m): \u001b[39m0.00% … 93.62%\n",
       " Time  \u001b[90m(\u001b[39m\u001b[34m\u001b[1mmedian\u001b[22m\u001b[39m\u001b[90m):     \u001b[39m\u001b[34m\u001b[1m285.000 μs               \u001b[22m\u001b[39m\u001b[90m┊\u001b[39m GC \u001b[90m(\u001b[39mmedian\u001b[90m):    \u001b[39m0.00%\n",
       " Time  \u001b[90m(\u001b[39m\u001b[32m\u001b[1mmean\u001b[22m\u001b[39m ± \u001b[32mσ\u001b[39m\u001b[90m):   \u001b[39m\u001b[32m\u001b[1m323.744 μs\u001b[22m\u001b[39m ± \u001b[32m431.054 μs\u001b[39m  \u001b[90m┊\u001b[39m GC \u001b[90m(\u001b[39mmean ± σ\u001b[90m):  \u001b[39m6.65% ±  4.91%\n",
       "\n",
       "  \u001b[39m \u001b[39m▂\u001b[39m█\u001b[39m▆\u001b[39m▇\u001b[34m▅\u001b[39m\u001b[39m▂\u001b[39m \u001b[39m \u001b[39m \u001b[39m \u001b[32m \u001b[39m\u001b[39m \u001b[39m \u001b[39m \u001b[39m \u001b[39m \u001b[39m \u001b[39m \u001b[39m \u001b[39m \u001b[39m \u001b[39m \u001b[39m \u001b[39m \u001b[39m \u001b[39m \u001b[39m \u001b[39m \u001b[39m \u001b[39m \u001b[39m \u001b[39m \u001b[39m \u001b[39m \u001b[39m \u001b[39m \u001b[39m \u001b[39m \u001b[39m \u001b[39m \u001b[39m \u001b[39m \u001b[39m \u001b[39m \u001b[39m \u001b[39m \u001b[39m \u001b[39m \u001b[39m \u001b[39m \u001b[39m \u001b[39m \u001b[39m \u001b[39m \u001b[39m \u001b[39m \u001b[39m \u001b[39m \u001b[39m \u001b[39m \u001b[39m \u001b[39m \n",
       "  \u001b[39m▄\u001b[39m█\u001b[39m█\u001b[39m█\u001b[39m█\u001b[34m█\u001b[39m\u001b[39m█\u001b[39m█\u001b[39m▇\u001b[39m▅\u001b[39m▄\u001b[32m▄\u001b[39m\u001b[39m▃\u001b[39m▃\u001b[39m▃\u001b[39m▃\u001b[39m▃\u001b[39m▂\u001b[39m▂\u001b[39m▂\u001b[39m▂\u001b[39m▂\u001b[39m▂\u001b[39m▂\u001b[39m▂\u001b[39m▂\u001b[39m▂\u001b[39m▂\u001b[39m▂\u001b[39m▂\u001b[39m▂\u001b[39m▂\u001b[39m▂\u001b[39m▂\u001b[39m▂\u001b[39m▂\u001b[39m▂\u001b[39m▂\u001b[39m▂\u001b[39m▂\u001b[39m▂\u001b[39m▂\u001b[39m▂\u001b[39m▂\u001b[39m▂\u001b[39m▂\u001b[39m▂\u001b[39m▂\u001b[39m▂\u001b[39m▂\u001b[39m▂\u001b[39m▂\u001b[39m▂\u001b[39m▂\u001b[39m▂\u001b[39m▂\u001b[39m▂\u001b[39m▁\u001b[39m▂\u001b[39m▂\u001b[39m▂\u001b[39m \u001b[39m▃\n",
       "  252 μs\u001b[90m           Histogram: frequency by time\u001b[39m          643 μs \u001b[0m\u001b[1m<\u001b[22m\n",
       "\n",
       " Memory estimate\u001b[90m: \u001b[39m\u001b[33m170.61 KiB\u001b[39m, allocs estimate\u001b[90m: \u001b[39m\u001b[33m2840\u001b[39m."
      ]
     },
     "execution_count": 15,
     "metadata": {},
     "output_type": "execute_result"
    }
   ],
   "source": [
    "zmarginals, bfe, bmark_bfe = inference_lgssm_bfe(data, z0, A, B, Q, P; nr_samples=10)\n",
    "println(-bfe)\n",
    "bmark_bfe"
   ]
  },
  {
   "cell_type": "markdown",
   "metadata": {},
   "source": [
    "#### Scale factors (N=100)"
   ]
  },
  {
   "cell_type": "code",
   "execution_count": 16,
   "metadata": {},
   "outputs": [],
   "source": [
    "_, data = generate_data(rng, A, B, Q, P; nr_samples=100);"
   ]
  },
  {
   "cell_type": "code",
   "execution_count": 17,
   "metadata": {},
   "outputs": [
    {
     "name": "stdout",
     "output_type": "stream",
     "text": [
      "-637.3876361386191"
     ]
    },
    {
     "data": {
      "text/plain": [
       "BenchmarkTools.Trial: 10000 samples with 1 evaluation.\n",
       " Range \u001b[90m(\u001b[39m\u001b[36m\u001b[1mmin\u001b[22m\u001b[39m … \u001b[35mmax\u001b[39m\u001b[90m):  \u001b[39m\u001b[36m\u001b[1m1.413 ms\u001b[22m\u001b[39m … \u001b[35m16.308 ms\u001b[39m  \u001b[90m┊\u001b[39m GC \u001b[90m(\u001b[39mmin … max\u001b[90m): \u001b[39m0.00% …  0.00%\n",
       " Time  \u001b[90m(\u001b[39m\u001b[34m\u001b[1mmedian\u001b[22m\u001b[39m\u001b[90m):     \u001b[39m\u001b[34m\u001b[1m1.528 ms              \u001b[22m\u001b[39m\u001b[90m┊\u001b[39m GC \u001b[90m(\u001b[39mmedian\u001b[90m):    \u001b[39m0.00%\n",
       " Time  \u001b[90m(\u001b[39m\u001b[32m\u001b[1mmean\u001b[22m\u001b[39m ± \u001b[32mσ\u001b[39m\u001b[90m):   \u001b[39m\u001b[32m\u001b[1m1.760 ms\u001b[22m\u001b[39m ± \u001b[32m 1.029 ms\u001b[39m  \u001b[90m┊\u001b[39m GC \u001b[90m(\u001b[39mmean ± σ\u001b[90m):  \u001b[39m6.83% ± 10.10%\n",
       "\n",
       "  \u001b[39m█\u001b[34m▆\u001b[39m\u001b[39m▅\u001b[32m▄\u001b[39m\u001b[39m▃\u001b[39m▃\u001b[39m▂\u001b[39m▂\u001b[39m \u001b[39m \u001b[39m \u001b[39m \u001b[39m \u001b[39m \u001b[39m \u001b[39m \u001b[39m \u001b[39m \u001b[39m \u001b[39m \u001b[39m \u001b[39m \u001b[39m \u001b[39m \u001b[39m \u001b[39m \u001b[39m \u001b[39m \u001b[39m \u001b[39m \u001b[39m \u001b[39m \u001b[39m \u001b[39m \u001b[39m \u001b[39m \u001b[39m \u001b[39m \u001b[39m \u001b[39m \u001b[39m \u001b[39m \u001b[39m \u001b[39m \u001b[39m \u001b[39m \u001b[39m \u001b[39m \u001b[39m \u001b[39m \u001b[39m \u001b[39m \u001b[39m \u001b[39m \u001b[39m \u001b[39m \u001b[39m \u001b[39m \u001b[39m \u001b[39m▂\n",
       "  \u001b[39m█\u001b[34m█\u001b[39m\u001b[39m█\u001b[32m█\u001b[39m\u001b[39m█\u001b[39m█\u001b[39m█\u001b[39m█\u001b[39m█\u001b[39m█\u001b[39m█\u001b[39m█\u001b[39m▇\u001b[39m▇\u001b[39m▆\u001b[39m▅\u001b[39m▅\u001b[39m▅\u001b[39m▅\u001b[39m▅\u001b[39m▄\u001b[39m▃\u001b[39m▄\u001b[39m▄\u001b[39m▄\u001b[39m▅\u001b[39m▃\u001b[39m▁\u001b[39m▃\u001b[39m▁\u001b[39m▁\u001b[39m▁\u001b[39m▁\u001b[39m▁\u001b[39m▁\u001b[39m▁\u001b[39m▁\u001b[39m▁\u001b[39m▁\u001b[39m▁\u001b[39m▁\u001b[39m▁\u001b[39m▁\u001b[39m▁\u001b[39m▁\u001b[39m▁\u001b[39m▁\u001b[39m▁\u001b[39m▁\u001b[39m▁\u001b[39m▁\u001b[39m▁\u001b[39m▁\u001b[39m▁\u001b[39m▁\u001b[39m▆\u001b[39m▇\u001b[39m█\u001b[39m \u001b[39m█\n",
       "  1.41 ms\u001b[90m      \u001b[39m\u001b[90mHistogram: \u001b[39m\u001b[90m\u001b[1mlog(\u001b[22m\u001b[39m\u001b[90mfrequency\u001b[39m\u001b[90m\u001b[1m)\u001b[22m\u001b[39m\u001b[90m by time\u001b[39m     8.86 ms \u001b[0m\u001b[1m<\u001b[22m\n",
       "\n",
       " Memory estimate\u001b[90m: \u001b[39m\u001b[33m1020.70 KiB\u001b[39m, allocs estimate\u001b[90m: \u001b[39m\u001b[33m14386\u001b[39m."
      ]
     },
     "execution_count": 17,
     "metadata": {},
     "output_type": "execute_result"
    },
    {
     "name": "stdout",
     "output_type": "stream",
     "text": [
      "\n"
     ]
    }
   ],
   "source": [
    "xmarginals_sf, bmark_sf = inference_lgssm_scalefactor(data, z0, A, B, Q, P; nr_samples=100);\n",
    "println(-xmarginals_sf[end].data.scale)\n",
    "bmark_sf"
   ]
  },
  {
   "cell_type": "markdown",
   "metadata": {},
   "source": [
    "#### Bethe free energy (N=100)"
   ]
  },
  {
   "cell_type": "code",
   "execution_count": 18,
   "metadata": {},
   "outputs": [],
   "source": [
    "zmarginals, bfe, bmark_bfe = inference_lgssm_bfe(data, z0, A, B, Q, P; nr_samples=100)\n",
    "println(-bfe)\n",
    "bmark_bfe"
   ]
  },
  {
   "cell_type": "markdown",
   "metadata": {},
   "source": [
    "#### Scale factors (N=1000)"
   ]
  },
  {
   "cell_type": "code",
   "execution_count": null,
   "metadata": {},
   "outputs": [],
   "source": [
    "_, data = generate_data(rng, A, B, Q, P; nr_samples=1000);"
   ]
  },
  {
   "cell_type": "code",
   "execution_count": null,
   "metadata": {},
   "outputs": [],
   "source": [
    "xmarginals_sf, bmark_sf = inference_lgssm_scalefactor(data, z0, A, B, Q, P; nr_samples=1000);\n",
    "println(-xmarginals_sf[end].data.scale)\n",
    "bmark_sf"
   ]
  },
  {
   "cell_type": "markdown",
   "metadata": {},
   "source": [
    "#### Bethe free energy (N=1000)"
   ]
  },
  {
   "cell_type": "code",
   "execution_count": null,
   "metadata": {},
   "outputs": [],
   "source": [
    "zmarginals, bfe, bmark_bfe = inference_lgssm_bfe(data, z0, A, B, Q, P; nr_samples=1000)\n",
    "println(-bfe)\n",
    "bmark_bfe"
   ]
  }
 ],
 "metadata": {
  "kernelspec": {
   "display_name": "Julia 1.7.0",
   "language": "julia",
   "name": "julia-1.7"
  },
  "language_info": {
   "file_extension": ".jl",
   "mimetype": "application/julia",
   "name": "julia",
   "version": "1.7.0"
  },
  "orig_nbformat": 4
 },
 "nbformat": 4,
 "nbformat_minor": 2
}
