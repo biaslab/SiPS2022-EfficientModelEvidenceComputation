{
 "cells": [
  {
   "cell_type": "code",
   "execution_count": 1,
   "metadata": {},
   "outputs": [
    {
     "name": "stderr",
     "output_type": "stream",
     "text": [
      "┌ Info: Precompiling BenchmarkTools [6e4b80f9-dd63-53aa-95a3-0cdb28fa8baf]\n",
      "└ @ Base loading.jl:1423\n"
     ]
    }
   ],
   "source": [
    "using Revise\n",
    "using Rocket, GraphPPL, ReactiveMP, Distributions, SpecialFunctions\n",
    "using Plots, LinearAlgebra, Random, BenchmarkTools"
   ]
  },
  {
   "cell_type": "markdown",
   "metadata": {},
   "source": [
    "## Generate data"
   ]
  },
  {
   "cell_type": "code",
   "execution_count": 2,
   "metadata": {},
   "outputs": [
    {
     "data": {
      "text/plain": [
       "generate_data (generic function with 1 method)"
      ]
     },
     "execution_count": 2,
     "metadata": {},
     "output_type": "execute_result"
    }
   ],
   "source": [
    "#Generate data\n",
    "function generate_data(rng, A, B, Q, P)\n",
    "    x_prev = [ 10.0, -10.0 ]\n",
    "\n",
    "    x = Vector{Vector{Float64}}(undef, n)\n",
    "    y = Vector{Vector{Float64}}(undef, n)\n",
    "\n",
    "    for i in 1:n\n",
    "        x[i] = rand(rng, MvNormal(A * x_prev, Q))\n",
    "        y[i] = rand(rng, MvNormal(B * x[i], P))\n",
    "        x_prev = x[i]\n",
    "    end\n",
    "    \n",
    "    return x, y\n",
    "end"
   ]
  },
  {
   "cell_type": "code",
   "execution_count": 60,
   "metadata": {},
   "outputs": [
    {
     "data": {
      "text/plain": [
       "20"
      ]
     },
     "execution_count": 60,
     "metadata": {},
     "output_type": "execute_result"
    }
   ],
   "source": [
    "# Seed for reproducibility\n",
    "seed = 1234\n",
    "\n",
    "rng = MersenneTwister(1234)\n",
    "\n",
    "\n",
    "#θ = π/35; \n",
    "A = [ 1.2 1.7; 0 1 ]\n",
    "B = diageye(2)\n",
    "Q = diageye(2)\n",
    "P = 25.0 .* diageye(2)\n",
    "\n",
    "# Number of observations\n",
    "n = 70;\n",
    "\n",
    "BenchmarkTools.DEFAULT_PARAMETERS.seconds = 20"
   ]
  },
  {
   "cell_type": "code",
   "execution_count": 61,
   "metadata": {},
   "outputs": [],
   "source": [
    "x, y = generate_data(rng, A, B, Q, P);"
   ]
  },
  {
   "cell_type": "code",
   "execution_count": 62,
   "metadata": {},
   "outputs": [],
   "source": [
    "x0 = MvNormalMeanCovariance(zeros(2), 100.0 * diageye(2));"
   ]
  },
  {
   "cell_type": "markdown",
   "metadata": {},
   "source": [
    "## Inference by ReactiveMP (involving Scale factor)\n",
    "In this section, we add Scale factor update rule to ReactiveMP, then we compute the model evidence by scale factors and compare the computational time with the previous ReactiveMP without scale factors."
   ]
  },
  {
   "cell_type": "code",
   "execution_count": 63,
   "metadata": {},
   "outputs": [],
   "source": [
    "#Product function for equality node\n",
    "function ReactiveMP.prod(::ProdAnalytical, left::ScaledMessage{ <: MultivariateNormalDistributionsFamily }, right::ScaledMessage{ <: MultivariateNormalDistributionsFamily })\n",
    "    mean_left, var_left = mean_cov(left.message)\n",
    "    mean_right, var_right = mean_cov(right.message)\n",
    "    n = length(mean_left)\n",
    "    m, V = mean_left - mean_right, var_left + var_right\n",
    "\n",
    "    message = prod(ProdAnalytical(),left.message,right.message)\n",
    "    scale = left.scale + right.scale + 0.5*logdet(V) + n/2*log(2π) + m'*inv(V)*m/2\n",
    "\n",
    "    return ScaledMessage(message,scale)\n",
    "end"
   ]
  },
  {
   "cell_type": "code",
   "execution_count": 64,
   "metadata": {},
   "outputs": [
    {
     "data": {
      "text/plain": [
       "rotate_ssm_scalefactor (generic function with 1 method)"
      ]
     },
     "execution_count": 64,
     "metadata": {},
     "output_type": "execute_result"
    }
   ],
   "source": [
    "#Define model with meta = scalefactormeta\n",
    "@model [default_meta=ScaleFactorMeta() ] function rotate_ssm_scalefactor(n, x0, A, B, Q, P)\n",
    "    # We create constvar references for better efficiency\n",
    "    cA = constvar(A)\n",
    "    cB = constvar(B)\n",
    "    cQ = constvar(Q)\n",
    "    cP = constvar(P)\n",
    "        \n",
    "    # `x` is a sequence of hidden states\n",
    "    x = randomvar(n)\n",
    "    # `y` is a sequence of \"clamped\" observations\n",
    "    y = datavar(Vector{Float64}, n)\n",
    "        \n",
    "    x_prior ~ MvNormalMeanCovariance(mean(x0), cov(x0))\n",
    "    x_prev = x_prior\n",
    "        \n",
    "    for i in 1:n\n",
    "        x[i] ~ MvNormalMeanCovariance(cA * x_prev, cQ)\n",
    "        y[i] ~ MvNormalMeanCovariance(cB * x[i], cP)\n",
    "        x_prev = x[i]\n",
    "    end\n",
    "        \n",
    "    return x, y\n",
    "end"
   ]
  },
  {
   "cell_type": "code",
   "execution_count": 65,
   "metadata": {},
   "outputs": [
    {
     "data": {
      "text/plain": [
       "inference (generic function with 1 method)"
      ]
     },
     "execution_count": 65,
     "metadata": {},
     "output_type": "execute_result"
    }
   ],
   "source": [
    "#Now we do inference\n",
    "function inference(data, x0, A, B, Q, P)\n",
    "\n",
    "    # We create a model and get references for \n",
    "    # hidden states and observations\n",
    "    model, (x, y) = rotate_ssm_scalefactor(n, x0, A, B, Q, P);\n",
    "\n",
    "    xbuffer   = buffer(Marginal, n)\n",
    "    \n",
    "    # We subscribe on posterior marginals of `x`\n",
    "    xsubscription = subscribe!(getmarginals(x), xbuffer)\n",
    "    # `update!` updates our clamped datavars\n",
    "    bmark_scf = @benchmark update!($y, $data)\n",
    "\n",
    "    # It is important to always unsubscribe\n",
    "    unsubscribe!(xsubscription)\n",
    "    \n",
    "    return xbuffer, bmark_scf\n",
    "end"
   ]
  },
  {
   "cell_type": "code",
   "execution_count": 66,
   "metadata": {},
   "outputs": [],
   "source": [
    "xmarginals_sf, bmark_scf = inference(y, x0, A, B, Q, P);"
   ]
  },
  {
   "cell_type": "code",
   "execution_count": 67,
   "metadata": {},
   "outputs": [
    {
     "data": {
      "text/plain": [
       "458.5427007954405"
      ]
     },
     "execution_count": 67,
     "metadata": {},
     "output_type": "execute_result"
    }
   ],
   "source": [
    "xmarginals_sf[end].data.scale"
   ]
  },
  {
   "cell_type": "markdown",
   "metadata": {},
   "source": [
    "## Inference by regular ReactiveMP"
   ]
  },
  {
   "cell_type": "code",
   "execution_count": 68,
   "metadata": {},
   "outputs": [
    {
     "data": {
      "text/plain": [
       "rotate_ssm (generic function with 1 method)"
      ]
     },
     "execution_count": 68,
     "metadata": {},
     "output_type": "execute_result"
    }
   ],
   "source": [
    "@model function rotate_ssm(n, x0, A, B, Q, P)\n",
    "    \n",
    "    # We create constvar references for better efficiency\n",
    "    cA = constvar(A)\n",
    "    cB = constvar(B)\n",
    "    cQ = constvar(Q)\n",
    "    cP = constvar(P)\n",
    "    \n",
    "    # `x` is a sequence of hidden states\n",
    "    x = randomvar(n)\n",
    "    # `y` is a sequence of \"clamped\" observations\n",
    "    y = datavar(Vector{Float64}, n)\n",
    "    \n",
    "    x_prior ~ MvNormalMeanCovariance(mean(x0), cov(x0))\n",
    "    x_prev = x_prior\n",
    "    \n",
    "    for i in 1:n\n",
    "        x[i] ~ MvNormalMeanCovariance(cA * x_prev, cQ)\n",
    "        y[i] ~ MvNormalMeanCovariance(cB * x[i], cP)\n",
    "        x_prev = x[i]\n",
    "    end\n",
    "    \n",
    "    return x, y\n",
    "end"
   ]
  },
  {
   "cell_type": "code",
   "execution_count": 69,
   "metadata": {},
   "outputs": [
    {
     "data": {
      "text/plain": [
       "inference (generic function with 1 method)"
      ]
     },
     "execution_count": 69,
     "metadata": {},
     "output_type": "execute_result"
    }
   ],
   "source": [
    "function inference(data, x0, A, B, Q, P)\n",
    "\n",
    "    # We create a model and get references for \n",
    "    # hidden states and observations\n",
    "    model, (x, y) = rotate_ssm(n, x0, A, B, Q, P);\n",
    "\n",
    "    xbuffer   = buffer(Marginal, n)\n",
    "    bfe       = nothing\n",
    "    \n",
    "    # We subscribe on posterior marginals of `x`\n",
    "    xsubscription = subscribe!(getmarginals(x), xbuffer)\n",
    "    # We are also intereset in BetheFreeEnergy functional,\n",
    "    # which in this case is equal to minus log evidence\n",
    "    fsubcription = subscribe!(score(BetheFreeEnergy(), model), (v) -> bfe = v)\n",
    "\n",
    "    # `update!` updates our clamped datavars\n",
    "    bmark_reactmp = @benchmark update!($y, $data)\n",
    "\n",
    "    # It is important to always unsubscribe\n",
    "    unsubscribe!((xsubscription, fsubcription))\n",
    "    \n",
    "    return xbuffer, bfe, bmark_reactmp\n",
    "end"
   ]
  },
  {
   "cell_type": "code",
   "execution_count": 70,
   "metadata": {},
   "outputs": [],
   "source": [
    "xmarginals, bfe, bmark_reactmp = inference(y, x0, A, B, Q, P);"
   ]
  },
  {
   "cell_type": "code",
   "execution_count": 71,
   "metadata": {},
   "outputs": [
    {
     "data": {
      "text/plain": [
       "458.5426925542269"
      ]
     },
     "execution_count": 71,
     "metadata": {},
     "output_type": "execute_result"
    }
   ],
   "source": [
    "bfe"
   ]
  },
  {
   "cell_type": "code",
   "execution_count": 72,
   "metadata": {},
   "outputs": [
    {
     "data": {
      "text/plain": [
       "8.241213606652309e-6"
      ]
     },
     "execution_count": 72,
     "metadata": {},
     "output_type": "execute_result"
    }
   ],
   "source": [
    "#Calculate the difference between scale factor and bfe\n",
    "xmarginals_sf[end].data.scale - bfe"
   ]
  },
  {
   "cell_type": "markdown",
   "metadata": {},
   "source": [
    "## Performance comparison by BenchmarkTools"
   ]
  },
  {
   "cell_type": "code",
   "execution_count": 73,
   "metadata": {},
   "outputs": [
    {
     "data": {
      "text/plain": [
       "BenchmarkTools.Trial: 10000 samples with 1 evaluation.\n",
       " Range \u001b[90m(\u001b[39m\u001b[36m\u001b[1mmin\u001b[22m\u001b[39m … \u001b[35mmax\u001b[39m\u001b[90m):  \u001b[39m\u001b[36m\u001b[1m1.255 ms\u001b[22m\u001b[39m … \u001b[35m15.101 ms\u001b[39m  \u001b[90m┊\u001b[39m GC \u001b[90m(\u001b[39mmin … max\u001b[90m): \u001b[39m 0.00% … 87.82%\n",
       " Time  \u001b[90m(\u001b[39m\u001b[34m\u001b[1mmedian\u001b[22m\u001b[39m\u001b[90m):     \u001b[39m\u001b[34m\u001b[1m1.423 ms              \u001b[22m\u001b[39m\u001b[90m┊\u001b[39m GC \u001b[90m(\u001b[39mmedian\u001b[90m):    \u001b[39m 0.00%\n",
       " Time  \u001b[90m(\u001b[39m\u001b[32m\u001b[1mmean\u001b[22m\u001b[39m ± \u001b[32mσ\u001b[39m\u001b[90m):   \u001b[39m\u001b[32m\u001b[1m1.670 ms\u001b[22m\u001b[39m ± \u001b[32m 1.432 ms\u001b[39m  \u001b[90m┊\u001b[39m GC \u001b[90m(\u001b[39mmean ± σ\u001b[90m):  \u001b[39m10.02% ± 10.37%\n",
       "\n",
       "  \u001b[39m█\u001b[34m \u001b[39m\u001b[32m \u001b[39m\u001b[39m \u001b[39m \u001b[39m \u001b[39m \u001b[39m \u001b[39m \u001b[39m \u001b[39m \u001b[39m \u001b[39m \u001b[39m \u001b[39m \u001b[39m \u001b[39m \u001b[39m \u001b[39m \u001b[39m \u001b[39m \u001b[39m \u001b[39m \u001b[39m \u001b[39m \u001b[39m \u001b[39m \u001b[39m \u001b[39m \u001b[39m \u001b[39m \u001b[39m \u001b[39m \u001b[39m \u001b[39m \u001b[39m \u001b[39m \u001b[39m \u001b[39m \u001b[39m \u001b[39m \u001b[39m \u001b[39m \u001b[39m \u001b[39m \u001b[39m \u001b[39m \u001b[39m \u001b[39m \u001b[39m \u001b[39m \u001b[39m \u001b[39m \u001b[39m \u001b[39m \u001b[39m \u001b[39m \u001b[39m \u001b[39m \u001b[39m \n",
       "  \u001b[39m█\u001b[34m▇\u001b[39m\u001b[32m█\u001b[39m\u001b[39m▃\u001b[39m▂\u001b[39m▂\u001b[39m▂\u001b[39m▂\u001b[39m▂\u001b[39m▂\u001b[39m▂\u001b[39m▁\u001b[39m▂\u001b[39m▂\u001b[39m▁\u001b[39m▁\u001b[39m▁\u001b[39m▁\u001b[39m▁\u001b[39m▁\u001b[39m▁\u001b[39m▁\u001b[39m▁\u001b[39m▁\u001b[39m▁\u001b[39m▁\u001b[39m▁\u001b[39m▁\u001b[39m▁\u001b[39m▁\u001b[39m▁\u001b[39m▁\u001b[39m▁\u001b[39m▁\u001b[39m▁\u001b[39m▁\u001b[39m▁\u001b[39m▁\u001b[39m▁\u001b[39m▁\u001b[39m▁\u001b[39m▁\u001b[39m▁\u001b[39m▁\u001b[39m▁\u001b[39m▁\u001b[39m▁\u001b[39m▁\u001b[39m▁\u001b[39m▁\u001b[39m▁\u001b[39m▁\u001b[39m▂\u001b[39m▂\u001b[39m▂\u001b[39m▂\u001b[39m▂\u001b[39m▂\u001b[39m \u001b[39m▂\n",
       "  1.26 ms\u001b[90m        Histogram: frequency by time\u001b[39m        13.1 ms \u001b[0m\u001b[1m<\u001b[22m\n",
       "\n",
       " Memory estimate\u001b[90m: \u001b[39m\u001b[33m1.07 MiB\u001b[39m, allocs estimate\u001b[90m: \u001b[39m\u001b[33m11692\u001b[39m."
      ]
     },
     "execution_count": 73,
     "metadata": {},
     "output_type": "execute_result"
    }
   ],
   "source": [
    "# benchmark of ReactiveMP with scale factor\n",
    "bmark_scf"
   ]
  },
  {
   "cell_type": "code",
   "execution_count": 74,
   "metadata": {},
   "outputs": [
    {
     "data": {
      "text/plain": [
       "BenchmarkTools.Trial: 7213 samples with 1 evaluation.\n",
       " Range \u001b[90m(\u001b[39m\u001b[36m\u001b[1mmin\u001b[22m\u001b[39m … \u001b[35mmax\u001b[39m\u001b[90m):  \u001b[39m\u001b[36m\u001b[1m2.005 ms\u001b[22m\u001b[39m … \u001b[35m19.530 ms\u001b[39m  \u001b[90m┊\u001b[39m GC \u001b[90m(\u001b[39mmin … max\u001b[90m): \u001b[39m0.00% … 81.50%\n",
       " Time  \u001b[90m(\u001b[39m\u001b[34m\u001b[1mmedian\u001b[22m\u001b[39m\u001b[90m):     \u001b[39m\u001b[34m\u001b[1m2.538 ms              \u001b[22m\u001b[39m\u001b[90m┊\u001b[39m GC \u001b[90m(\u001b[39mmedian\u001b[90m):    \u001b[39m0.00%\n",
       " Time  \u001b[90m(\u001b[39m\u001b[32m\u001b[1mmean\u001b[22m\u001b[39m ± \u001b[32mσ\u001b[39m\u001b[90m):   \u001b[39m\u001b[32m\u001b[1m2.761 ms\u001b[22m\u001b[39m ± \u001b[32m 1.742 ms\u001b[39m  \u001b[90m┊\u001b[39m GC \u001b[90m(\u001b[39mmean ± σ\u001b[90m):  \u001b[39m7.52% ± 10.13%\n",
       "\n",
       "  \u001b[39m█\u001b[39m▆\u001b[34m█\u001b[39m\u001b[32m▃\u001b[39m\u001b[39m \u001b[39m \u001b[39m \u001b[39m \u001b[39m \u001b[39m \u001b[39m \u001b[39m \u001b[39m \u001b[39m \u001b[39m \u001b[39m \u001b[39m \u001b[39m \u001b[39m \u001b[39m \u001b[39m \u001b[39m \u001b[39m \u001b[39m \u001b[39m \u001b[39m \u001b[39m \u001b[39m \u001b[39m \u001b[39m \u001b[39m \u001b[39m \u001b[39m \u001b[39m \u001b[39m \u001b[39m \u001b[39m \u001b[39m \u001b[39m \u001b[39m \u001b[39m \u001b[39m \u001b[39m \u001b[39m \u001b[39m \u001b[39m \u001b[39m \u001b[39m \u001b[39m \u001b[39m \u001b[39m \u001b[39m \u001b[39m \u001b[39m \u001b[39m \u001b[39m \u001b[39m \u001b[39m \u001b[39m \u001b[39m \n",
       "  \u001b[39m█\u001b[39m█\u001b[34m█\u001b[39m\u001b[32m█\u001b[39m\u001b[39m▆\u001b[39m▄\u001b[39m▂\u001b[39m▂\u001b[39m▂\u001b[39m▂\u001b[39m▁\u001b[39m▂\u001b[39m▂\u001b[39m▂\u001b[39m▂\u001b[39m▁\u001b[39m▁\u001b[39m▁\u001b[39m▁\u001b[39m▁\u001b[39m▁\u001b[39m▁\u001b[39m▁\u001b[39m▁\u001b[39m▁\u001b[39m▁\u001b[39m▁\u001b[39m▁\u001b[39m▁\u001b[39m▁\u001b[39m▁\u001b[39m▁\u001b[39m▁\u001b[39m▁\u001b[39m▁\u001b[39m▁\u001b[39m▁\u001b[39m▁\u001b[39m▁\u001b[39m▁\u001b[39m▁\u001b[39m▁\u001b[39m▁\u001b[39m▁\u001b[39m▁\u001b[39m▁\u001b[39m▁\u001b[39m▁\u001b[39m▁\u001b[39m▁\u001b[39m▁\u001b[39m▁\u001b[39m▁\u001b[39m▁\u001b[39m▂\u001b[39m▁\u001b[39m▂\u001b[39m▂\u001b[39m \u001b[39m▃\n",
       "  2 ms\u001b[90m           Histogram: frequency by time\u001b[39m        16.2 ms \u001b[0m\u001b[1m<\u001b[22m\n",
       "\n",
       " Memory estimate\u001b[90m: \u001b[39m\u001b[33m1.14 MiB\u001b[39m, allocs estimate\u001b[90m: \u001b[39m\u001b[33m19880\u001b[39m."
      ]
     },
     "execution_count": 74,
     "metadata": {},
     "output_type": "execute_result"
    }
   ],
   "source": [
    "# benchmark of regular ReactiveMP\n",
    "bmark_reactmp"
   ]
  },
  {
   "cell_type": "code",
   "execution_count": null,
   "metadata": {},
   "outputs": [],
   "source": []
  }
 ],
 "metadata": {
  "kernelspec": {
   "display_name": "Julia 1.7.1",
   "language": "julia",
   "name": "julia-1.7"
  },
  "language_info": {
   "file_extension": ".jl",
   "mimetype": "application/julia",
   "name": "julia",
   "version": "1.7.1"
  },
  "orig_nbformat": 4
 },
 "nbformat": 4,
 "nbformat_minor": 2
}
