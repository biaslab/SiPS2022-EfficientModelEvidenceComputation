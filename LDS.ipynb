{
 "cells": [
  {
   "cell_type": "code",
   "execution_count": 1,
   "metadata": {},
   "outputs": [],
   "source": [
    "using Rocket, GraphPPL, ReactiveMP, Distributions, SpecialFunctions\n",
    "using Plots, LinearAlgebra, Random\n",
    "using Revise"
   ]
  },
  {
   "cell_type": "markdown",
   "metadata": {},
   "source": [
    "## Generate data"
   ]
  },
  {
   "cell_type": "code",
   "execution_count": 12,
   "metadata": {},
   "outputs": [
    {
     "data": {
      "text/plain": [
       "generate_data (generic function with 1 method)"
      ]
     },
     "execution_count": 12,
     "metadata": {},
     "output_type": "execute_result"
    }
   ],
   "source": [
    "#Generate data\n",
    "function generate_data(rng, A, B, Q, P)\n",
    "    x_prev = [ 10.0, -10.0 ]\n",
    "\n",
    "    x = Vector{Vector{Float64}}(undef, n)\n",
    "    y = Vector{Vector{Float64}}(undef, n)\n",
    "\n",
    "    for i in 1:n\n",
    "        x[i] = rand(rng, MvNormal(A * x_prev, Q))\n",
    "        y[i] = rand(rng, MvNormal(B * x[i], P))\n",
    "        x_prev = x[i]\n",
    "    end\n",
    "    \n",
    "    return x, y\n",
    "end"
   ]
  },
  {
   "cell_type": "code",
   "execution_count": 39,
   "metadata": {},
   "outputs": [],
   "source": [
    "# Seed for reproducibility\n",
    "seed = 1234\n",
    "\n",
    "rng = MersenneTwister(1234)\n",
    "\n",
    "\n",
    "#θ = π/35; \n",
    "A = [ 1.2 1.7; 0 1 ]\n",
    "B = diageye(2)\n",
    "Q = diageye(2)\n",
    "P = 25.0 .* diageye(2)\n",
    "\n",
    "# Number of observations\n",
    "n = 50;"
   ]
  },
  {
   "cell_type": "code",
   "execution_count": 40,
   "metadata": {},
   "outputs": [
    {
     "data": {
      "text/plain": [
       "0.1823215567939546"
      ]
     },
     "execution_count": 40,
     "metadata": {},
     "output_type": "execute_result"
    }
   ],
   "source": [
    "logdet(A)"
   ]
  },
  {
   "cell_type": "code",
   "execution_count": 41,
   "metadata": {},
   "outputs": [
    {
     "data": {
      "text/plain": [
       "0.0"
      ]
     },
     "execution_count": 41,
     "metadata": {},
     "output_type": "execute_result"
    }
   ],
   "source": [
    "logdet(B)"
   ]
  },
  {
   "cell_type": "code",
   "execution_count": 42,
   "metadata": {},
   "outputs": [],
   "source": [
    "x, y = generate_data(rng, A, B, Q, P);"
   ]
  },
  {
   "cell_type": "code",
   "execution_count": 43,
   "metadata": {},
   "outputs": [],
   "source": [
    "x0 = MvNormalMeanCovariance(zeros(2), 100.0 * diageye(2));"
   ]
  },
  {
   "cell_type": "markdown",
   "metadata": {},
   "source": [
    "## Inference by ReactiveMP (involving Scale factor)\n",
    "In this section, we add Scale factor update rule to ReactiveMP, then we compute the model evidence by scale factors and compare the computational time with the previous ReactiveMP without scale factors."
   ]
  },
  {
   "cell_type": "code",
   "execution_count": 44,
   "metadata": {},
   "outputs": [],
   "source": [
    "#Define a new structure, which consists of a message and a -log(scalefactor)\n",
    "struct MessageWithScaleFactor{T}\n",
    "    message :: T\n",
    "    scalefactor :: Float64\n",
    "end"
   ]
  },
  {
   "cell_type": "code",
   "execution_count": 45,
   "metadata": {},
   "outputs": [],
   "source": [
    "#Define a structure for scalefactor\n",
    "#When we use this, ReactiveMP will switch to MessageWithScaleFactor backend\n",
    "struct scalefactormeta end"
   ]
  },
  {
   "cell_type": "code",
   "execution_count": 46,
   "metadata": {},
   "outputs": [],
   "source": [
    "#create rules (both message and scalefactor) for Normal node\n",
    "@rule MvNormalMeanCovariance(:μ, Marginalisation) (m_out::PointMass, m_Σ::PointMass, meta::scalefactormeta) = begin\n",
    "    message = @call_rule MvNormalMeanCovariance(:μ, Marginalisation) (m_out = m_out, m_Σ = m_Σ) \n",
    "    scalefactor = 0.0\n",
    "    return MessageWithScaleFactor(message,scalefactor)\n",
    "end\n",
    "\n",
    "@rule MvNormalMeanCovariance(:μ, Marginalisation) (m_out::MultivariateNormalDistributionsFamily, m_Σ::PointMass, meta::scalefactormeta) = begin\n",
    "    message = @call_rule MvNormalMeanCovariance(:μ, Marginalisation) (m_out = m_out, m_Σ = m_Σ) \n",
    "    scalefactor = 0.0\n",
    "    return MessageWithScaleFactor(message,scalefactor)\n",
    "end\n",
    "\n",
    "\n",
    "@rule MvNormalMeanCovariance(:out, Marginalisation) (m_μ::PointMass, m_Σ::PointMass, meta::scalefactormeta) = begin\n",
    "    message = @call_rule MvNormalMeanCovariance(:out, Marginalisation) (m_μ = m_μ, m_Σ = m_Σ) \n",
    "    scalefactor = 0.0\n",
    "    return MessageWithScaleFactor(message,scalefactor)\n",
    "end\n",
    "\n",
    "@rule MvNormalMeanCovariance(:out, Marginalisation) (m_μ::MultivariateNormalDistributionsFamily, m_Σ::PointMass, meta::scalefactormeta) = begin\n",
    "    message = @call_rule MvNormalMeanCovariance(:out, Marginalisation) (m_μ = m_μ, m_Σ = m_Σ) \n",
    "    scalefactor = 0.0\n",
    "    return MessageWithScaleFactor(message,scalefactor)\n",
    "end\n",
    "\n",
    "@rule MvNormalMeanCovariance(:out, Marginalisation) (m_μ::MessageWithScaleFactor, m_Σ::PointMass, meta::scalefactormeta) = begin \n",
    "    message = @call_rule MvNormalMeanCovariance(:out, Marginalisation) (m_μ = m_μ.message, m_Σ = m_Σ) \n",
    "    scalefactor = m_μ.scalefactor\n",
    "    return MessageWithScaleFactor(message,scalefactor)\n",
    "end\n",
    "\n",
    "@rule MvNormalMeanCovariance(:μ, Marginalisation) (m_out::MessageWithScaleFactor, m_Σ::PointMass, meta::scalefactormeta) = begin \n",
    "    message = @call_rule MvNormalMeanCovariance(:μ, Marginalisation) (m_out = m_out.message, m_Σ = m_Σ) \n",
    "    scalefactor = m_out.scalefactor\n",
    "    return MessageWithScaleFactor(message, scalefactor)\n",
    "end"
   ]
  },
  {
   "cell_type": "code",
   "execution_count": 58,
   "metadata": {},
   "outputs": [],
   "source": [
    "@rule typeof(*)(:out, Marginalisation) (m_A::PointMass, m_in::MessageWithScaleFactor, meta::TinyCorrection) = begin \n",
    "    A = mean(m_A)\n",
    "    message = @call_rule typeof(*)(:out, Marginalisation) (m_A = m_A, m_in = m_in.message, meta=meta)\n",
    "    scalefactor = m_in.scalefactor \n",
    "\n",
    "    return MessageWithScaleFactor(message, scalefactor)\n",
    "end\n",
    "\n",
    "@rule typeof(*)(:in, Marginalisation) (m_out::MessageWithScaleFactor, m_A::PointMass, meta::TinyCorrection) = begin\n",
    "     \n",
    "    message = @call_rule typeof(*)(:in, Marginalisation) (m_out = m_out.message, m_A = m_A, meta=meta)\n",
    "    scalefactor = m_out.scalefactor + logdet(A)\n",
    "    return MessageWithScaleFactor(message, scalefactor)\n",
    "end\n",
    "@rule typeof(*)(:in, Marginalisation) (m_out::PointMass, m_A::PointMass) = PointMass(mean(inv, m_A) * mean(m_out))"
   ]
  },
  {
   "cell_type": "code",
   "execution_count": 59,
   "metadata": {},
   "outputs": [],
   "source": [
    "#Product function for equality node\n",
    "function ReactiveMP.prod(::ProdAnalytical, left::MessageWithScaleFactor{ <: MultivariateNormalDistributionsFamily }, right::MessageWithScaleFactor{ <: MultivariateNormalDistributionsFamily })\n",
    "    mean_left, var_left = mean_cov(left.message)\n",
    "    mean_right, var_right = mean_cov(right.message)\n",
    "    n = length(mean_left)\n",
    "    m, V = mean_left - mean_right, var_left + var_right\n",
    "\n",
    "    message = prod(ProdAnalytical(),left.message,right.message)\n",
    "    scalefactor = left.scalefactor + right.scalefactor + 0.5*logdet(V) + n/2*log(2π) + m'*inv(V)*m/2\n",
    "\n",
    "    return MessageWithScaleFactor(message,scalefactor)\n",
    "end"
   ]
  },
  {
   "cell_type": "code",
   "execution_count": 60,
   "metadata": {},
   "outputs": [
    {
     "data": {
      "text/plain": [
       "rotate_ssm_scalefactor (generic function with 1 method)"
      ]
     },
     "execution_count": 60,
     "metadata": {},
     "output_type": "execute_result"
    }
   ],
   "source": [
    "#Define model with meta = scalefactormeta\n",
    "@model function rotate_ssm_scalefactor(n, x0, A, B, Q, P)\n",
    "    meta = scalefactormeta();\n",
    "    # We create constvar references for better efficiency\n",
    "    cA = constvar(A)\n",
    "    cB = constvar(B)\n",
    "    cQ = constvar(Q)\n",
    "    cP = constvar(P)\n",
    "        \n",
    "    # `x` is a sequence of hidden states\n",
    "    x = randomvar(n)\n",
    "    # `y` is a sequence of \"clamped\" observations\n",
    "    y = datavar(Vector{Float64}, n)\n",
    "        \n",
    "    x_prior ~ MvNormalMeanCovariance(mean(x0), cov(x0)) where {meta = meta}\n",
    "    x_prev = x_prior\n",
    "        \n",
    "    for i in 1:n\n",
    "        x[i] ~ MvNormalMeanCovariance(cA * x_prev, cQ) where {meta=meta}\n",
    "        y[i] ~ MvNormalMeanCovariance(cB * x[i], cP) where {meta=meta}\n",
    "        x_prev = x[i]\n",
    "    end\n",
    "        \n",
    "    return x, y\n",
    "end"
   ]
  },
  {
   "cell_type": "code",
   "execution_count": 61,
   "metadata": {},
   "outputs": [
    {
     "data": {
      "text/plain": [
       "inference (generic function with 2 methods)"
      ]
     },
     "execution_count": 61,
     "metadata": {},
     "output_type": "execute_result"
    }
   ],
   "source": [
    "#Now we do inference\n",
    "function inference(data, x0, A, B, Q, P)\n",
    "\n",
    "    # We create a model and get references for \n",
    "    # hidden states and observations\n",
    "    model, (x, y) = rotate_ssm_scalefactor(n, x0, A, B, Q, P);\n",
    "\n",
    "    xbuffer   = buffer(Marginal, n)\n",
    "    \n",
    "    # We subscribe on posterior marginals of `x`\n",
    "    xsubscription = subscribe!(getmarginals(x), xbuffer)\n",
    "    # `update!` updates our clamped datavars\n",
    "    update!(y, data)\n",
    "\n",
    "    # It is important to always unsubscribe\n",
    "    unsubscribe!(xsubscription)\n",
    "    \n",
    "    return xbuffer\n",
    "end"
   ]
  },
  {
   "cell_type": "code",
   "execution_count": 62,
   "metadata": {},
   "outputs": [],
   "source": [
    "xmarginals_sf = inference(y, x0, A, B, Q, P);"
   ]
  },
  {
   "cell_type": "code",
   "execution_count": 63,
   "metadata": {},
   "outputs": [
    {
     "data": {
      "text/plain": [
       "BufferActor{Marginal,Array{Marginal,1}}(Marginal[Marginal(MessageWithScaleFactor{MvNormalWeightedMeanPrecision{Float64,Array{Float64,1},Array{Float64,2}}}(MvNormalWeightedMeanPrecision(\n",
       "xi: [-5.154798743055683, -15.826890766427375]\n",
       "Λ: [0.2259374109510591 0.42710733629339115; 0.42710733629339115 1.524002352773202]\n",
       ")\n",
       ", 338.24776196433646)), Marginal(MessageWithScaleFactor{MvNormalWeightedMeanPrecision{Float64,Array{Float64,1},Array{Float64,2}}}(MvNormalWeightedMeanPrecision(\n",
       "xi: [-8.826993661174992, -22.664963725694108]\n",
       "Λ: [0.24733118952849362 0.3858862535058092; 0.3858862535058092 1.6553892936970167]\n",
       ")\n",
       ", 338.24776196434135)), Marginal(MessageWithScaleFactor{MvNormalWeightedMeanPrecision{Float64,Array{Float64,1},Array{Float64,2}}}(MvNormalWeightedMeanPrecision(\n",
       "xi: [-13.504392336002027, -29.785140134515927]\n",
       "Λ: [0.25479441401448444 0.3578381384233471; 0.3578381384233471 1.8153758927335988]\n",
       ")\n",
       ", 338.24776196439313)), Marginal(MessageWithScaleFactor{MvNormalWeightedMeanPrecision{Float64,Array{Float64,1},Array{Float64,2}}}(MvNormalWeightedMeanPrecision(\n",
       "xi: [-19.156360366468654, -37.86069890051773]\n",
       "Λ: [0.2561974775234149 0.35192252145009323; 0.35192252145009323 1.912682661114003]\n",
       ")\n",
       ", 338.2477619644139)), Marginal(MessageWithScaleFactor{MvNormalWeightedMeanPrecision{Float64,Array{Float64,1},Array{Float64,2}}}(MvNormalWeightedMeanPrecision(\n",
       "xi: [-26.055055285279998, -48.12237283665789]\n",
       "Λ: [0.2568707280479029 0.354014443024085; 0.354014443024085 1.9491961460087808]\n",
       ")\n",
       ", 338.247761964121)), Marginal(MessageWithScaleFactor{MvNormalWeightedMeanPrecision{Float64,Array{Float64,1},Array{Float64,2}}}(MvNormalWeightedMeanPrecision(\n",
       "xi: [-34.52658799408169, -60.54987817531317]\n",
       "Λ: [0.25767821917265343 0.35599460190427495; 0.35599460190427495 1.9586328008311273]\n",
       ")\n",
       ", 338.247761963646)), Marginal(MessageWithScaleFactor{MvNormalWeightedMeanPrecision{Float64,Array{Float64,1},Array{Float64,2}}}(MvNormalWeightedMeanPrecision(\n",
       "xi: [-44.80001354673963, -74.78983829573089]\n",
       "Λ: [0.25834312001242987 0.35664193425766366; 0.35664193425766366 1.9602598037085146]\n",
       ")\n",
       ", 338.24776196375495)), Marginal(MessageWithScaleFactor{MvNormalWeightedMeanPrecision{Float64,Array{Float64,1},Array{Float64,2}}}(MvNormalWeightedMeanPrecision(\n",
       "xi: [-57.1299398850543, -91.76367432504927]\n",
       "Λ: [0.2587381574854365 0.35659987065226884; 0.35659987065226884 1.9605635087607747]\n",
       ")\n",
       ", 338.2477619639576)), Marginal(MessageWithScaleFactor{MvNormalWeightedMeanPrecision{Float64,Array{Float64,1},Array{Float64,2}}}(MvNormalWeightedMeanPrecision(\n",
       "xi: [-71.99071880278697, -112.7377605944937]\n",
       "Λ: [0.2589203785899442 0.3564140974144305; 0.35641409741443053 1.9608683883109945]\n",
       ")\n",
       ", 338.2477619631345)), Marginal(MessageWithScaleFactor{MvNormalWeightedMeanPrecision{Float64,Array{Float64,1},Array{Float64,2}}}(MvNormalWeightedMeanPrecision(\n",
       "xi: [-90.02907412297313, -138.34640382595995]\n",
       "Λ: [0.2589867735888095 0.35628441949836076; 0.35628441949836065 1.9611780049846892]\n",
       ")\n",
       ", 338.24776196206545))  …  Marginal(MessageWithScaleFactor{MvNormalWeightedMeanPrecision{Float64,Array{Float64,1},Array{Float64,2}}}(MvNormalWeightedMeanPrecision(\n",
       "xi: [-31894.17331176953, -43778.0898761938]\n",
       "Λ: [0.2584117676032108 0.35448344552377614; 0.35448344552377603 1.9563720455424942]\n",
       ")\n",
       ", 338.2477605283645)), Marginal(MessageWithScaleFactor{MvNormalWeightedMeanPrecision{Float64,Array{Float64,1},Array{Float64,2}}}(MvNormalWeightedMeanPrecision(\n",
       "xi: [-38119.08909219093, -52167.85314212722]\n",
       "Λ: [0.2573281840494392 0.3519912350817755; 0.35199123508177543 1.9505475686558753]\n",
       ")\n",
       ", 338.24776150633437)), Marginal(MessageWithScaleFactor{MvNormalWeightedMeanPrecision{Float64,Array{Float64,1},Array{Float64,2}}}(MvNormalWeightedMeanPrecision(\n",
       "xi: [-45370.869669891006, -61900.11186456751]\n",
       "Λ: [0.25520060789455884 0.3480346396430809; 0.3480346396430809 1.942927677566129]\n",
       ")\n",
       ", 338.2477625848401)), Marginal(MessageWithScaleFactor{MvNormalWeightedMeanPrecision{Float64,Array{Float64,1},Array{Float64,2}}}(MvNormalWeightedMeanPrecision(\n",
       "xi: [-53785.660680168636, -73431.23798903837]\n",
       "Λ: [0.25208245748457836 0.3440447009945758; 0.34404470099457585 1.9368362661555674]\n",
       ")\n",
       ", 338.2477625815731)), Marginal(MessageWithScaleFactor{MvNormalWeightedMeanPrecision{Float64,Array{Float64,1},Array{Float64,2}}}(MvNormalWeightedMeanPrecision(\n",
       "xi: [-63781.39717039038, -87842.6304855863]\n",
       "Λ: [0.24908609471521273 0.3429597362896278; 0.34295973628962784 1.9308338614580762]\n",
       ")\n",
       ", 338.24776187743083)), Marginal(MessageWithScaleFactor{MvNormalWeightedMeanPrecision{Float64,Array{Float64,1},Array{Float64,2}}}(MvNormalWeightedMeanPrecision(\n",
       "xi: [-75945.0153225111, -104773.39413306334]\n",
       "Λ: [0.24713855069516805 0.34087519602034505; 0.3408751960203451 1.8826740316680395]\n",
       ")\n",
       ", 338.2477604328058)), Marginal(MessageWithScaleFactor{MvNormalWeightedMeanPrecision{Float64,Array{Float64,1},Array{Float64,2}}}(MvNormalWeightedMeanPrecision(\n",
       "xi: [-87869.41483860472, -110413.8512422912]\n",
       "Λ: [0.2382710979542518 0.29934480104756833; 0.2993448010475682 1.640985029473395]\n",
       ")\n",
       ", 338.2477590688295)), Marginal(MessageWithScaleFactor{MvNormalWeightedMeanPrecision{Float64,Array{Float64,1},Array{Float64,2}}}(MvNormalWeightedMeanPrecision(\n",
       "xi: [-88063.32430062367, -70434.33218617406]\n",
       "Λ: [0.19898962507299958 0.1591167431259452; 0.15911674312594526 1.1068579190315075]\n",
       ")\n",
       ", 338.24776127506027)), Marginal(MessageWithScaleFactor{MvNormalWeightedMeanPrecision{Float64,Array{Float64,1},Array{Float64,2}}}(MvNormalWeightedMeanPrecision(\n",
       "xi: [-71812.5701915836, 2017.1473382069817]\n",
       "Λ: [0.13522110140858506 -0.0038194660341996922; -0.0038194660341996922 0.6562447347621239]\n",
       ")\n",
       ", 338.2477625972663)), Marginal(MessageWithScaleFactor{MvNormalWeightedMeanPrecision{Float64,Array{Float64,1},Array{Float64,2}}}(MvNormalWeightedMeanPrecision(\n",
       "xi: [-50879.96371704135, 52430.58119754375]\n",
       "Λ: [0.07983648602163831 -0.08228100449762427; -0.08228100449762427 0.5066293501421427]\n",
       ")\n",
       ", 338.247760288757))])"
      ]
     },
     "execution_count": 63,
     "metadata": {},
     "output_type": "execute_result"
    }
   ],
   "source": [
    "xmarginals_sf"
   ]
  },
  {
   "cell_type": "markdown",
   "metadata": {},
   "source": [
    "## Inference by regular ReactiveMP"
   ]
  },
  {
   "cell_type": "code",
   "execution_count": 53,
   "metadata": {},
   "outputs": [
    {
     "data": {
      "text/plain": [
       "rotate_ssm (generic function with 1 method)"
      ]
     },
     "execution_count": 53,
     "metadata": {},
     "output_type": "execute_result"
    }
   ],
   "source": [
    "@model function rotate_ssm(n, x0, A, B, Q, P)\n",
    "    \n",
    "    # We create constvar references for better efficiency\n",
    "    cA = constvar(A)\n",
    "    cB = constvar(B)\n",
    "    cQ = constvar(Q)\n",
    "    cP = constvar(P)\n",
    "    \n",
    "    # `x` is a sequence of hidden states\n",
    "    x = randomvar(n)\n",
    "    # `y` is a sequence of \"clamped\" observations\n",
    "    y = datavar(Vector{Float64}, n)\n",
    "    \n",
    "    x_prior ~ MvNormalMeanCovariance(mean(x0), cov(x0))\n",
    "    x_prev = x_prior\n",
    "    \n",
    "    for i in 1:n\n",
    "        x[i] ~ MvNormalMeanCovariance(cA * x_prev, cQ)\n",
    "        y[i] ~ MvNormalMeanCovariance(cB * x[i], cP)\n",
    "        x_prev = x[i]\n",
    "    end\n",
    "    \n",
    "    return x, y\n",
    "end"
   ]
  },
  {
   "cell_type": "code",
   "execution_count": 54,
   "metadata": {},
   "outputs": [
    {
     "data": {
      "text/plain": [
       "inference (generic function with 2 methods)"
      ]
     },
     "execution_count": 54,
     "metadata": {},
     "output_type": "execute_result"
    }
   ],
   "source": [
    "function inference(data, x0, A, B, Q, P)\n",
    "\n",
    "    # We create a model and get references for \n",
    "    # hidden states and observations\n",
    "    model, (x, y) = rotate_ssm(n, x0, A, B, Q, P);\n",
    "\n",
    "    xbuffer   = buffer(Marginal, n)\n",
    "    bfe       = nothing\n",
    "    \n",
    "    # We subscribe on posterior marginals of `x`\n",
    "    xsubscription = subscribe!(getmarginals(x), xbuffer)\n",
    "    # We are also intereset in BetheFreeEnergy functional,\n",
    "    # which in this case is equal to minus log evidence\n",
    "    fsubcription = subscribe!(score(BetheFreeEnergy(), model), (v) -> bfe = v)\n",
    "\n",
    "    # `update!` updates our clamped datavars\n",
    "    update!(y, data)\n",
    "\n",
    "    # It is important to always unsubscribe\n",
    "    unsubscribe!((xsubscription, fsubcription))\n",
    "    \n",
    "    return xbuffer, bfe\n",
    "end"
   ]
  },
  {
   "cell_type": "code",
   "execution_count": 55,
   "metadata": {},
   "outputs": [],
   "source": [
    "xmarginals, bfe = inference(y, x0, A, B, Q, P);"
   ]
  },
  {
   "cell_type": "code",
   "execution_count": 56,
   "metadata": {},
   "outputs": [
    {
     "data": {
      "text/plain": [
       "329.13168253878126"
      ]
     },
     "execution_count": 56,
     "metadata": {},
     "output_type": "execute_result"
    }
   ],
   "source": [
    "bfe"
   ]
  },
  {
   "cell_type": "code",
   "execution_count": 57,
   "metadata": {},
   "outputs": [
    {
     "data": {
      "text/plain": [
       "329.1316824490589"
      ]
     },
     "execution_count": 57,
     "metadata": {},
     "output_type": "execute_result"
    }
   ],
   "source": [
    "me_scf = xmarginals_sf[end].data.scalefactor"
   ]
  },
  {
   "cell_type": "code",
   "execution_count": 444,
   "metadata": {},
   "outputs": [
    {
     "data": {
      "text/plain": [
       "-0.36464311348635725"
      ]
     },
     "execution_count": 444,
     "metadata": {},
     "output_type": "execute_result"
    }
   ],
   "source": [
    "bfe - me_scf"
   ]
  },
  {
   "cell_type": "code",
   "execution_count": 445,
   "metadata": {},
   "outputs": [
    {
     "data": {
      "text/plain": [
       "0.3646431135879092"
      ]
     },
     "execution_count": 445,
     "metadata": {},
     "output_type": "execute_result"
    }
   ],
   "source": [
    "logdet(A)*2"
   ]
  },
  {
   "cell_type": "code",
   "execution_count": 3,
   "metadata": {},
   "outputs": [
    {
     "data": {
      "text/plain": [
       "example (generic function with 1 method)"
      ]
     },
     "execution_count": 3,
     "metadata": {},
     "output_type": "execute_result"
    }
   ],
   "source": [
    "@model function example(A)\n",
    "    \n",
    "    # We create constvar references for better efficiency\n",
    "    cA = constvar(A)\n",
    "    \n",
    "    # `x` is a sequence of hidden states\n",
    "    x ~ MvNormalMeanCovariance([1., 1.], [2. 0.;0. 1.])\n",
    "    # `y` is a sequence of \"clamped\" observations\n",
    "    y = datavar(Vector{Float64})\n",
    "    \n",
    "    y~ MvNormalMeanPrecision(A*x, [1e10 0; 0 1e10])\n",
    "    \n",
    "    return x, y\n",
    "end"
   ]
  },
  {
   "cell_type": "code",
   "execution_count": 4,
   "metadata": {},
   "outputs": [
    {
     "data": {
      "text/plain": [
       "inference (generic function with 1 method)"
      ]
     },
     "execution_count": 4,
     "metadata": {},
     "output_type": "execute_result"
    }
   ],
   "source": [
    "function inference(data, A)\n",
    "\n",
    "    # We create a model and get references for \n",
    "    # hidden states and observations\n",
    "    model, (x, y) = example(A);\n",
    "\n",
    "    xbuffer   = keep(Marginal)\n",
    "    bfe       = nothing\n",
    "    \n",
    "    # We subscribe on posterior marginals of `x`\n",
    "    xsubscription = subscribe!(getmarginal(x), xbuffer)\n",
    "    # We are also intereset in BetheFreeEnergy functional,\n",
    "    # which in this case is equal to minus log evidence\n",
    "    fsubcription = subscribe!(score(BetheFreeEnergy(), model), (v) -> bfe = v)\n",
    "\n",
    "    # `update!` updates our clamped datavars\n",
    "    update!(y, data)\n",
    "\n",
    "    # It is important to always unsubscribe\n",
    "    unsubscribe!((xsubscription, fsubcription))\n",
    "    \n",
    "    return xbuffer, bfe\n",
    "end"
   ]
  },
  {
   "cell_type": "code",
   "execution_count": 498,
   "metadata": {},
   "outputs": [],
   "source": [
    "# #Product function for equality node\n",
    "# function ReactiveMP.prod(::ProdAnalytical, left::MultivariateNormalDistributionsFamily, right::PointMass)\n",
    "\n",
    "#     return left\n",
    "# end\n",
    "# @marginalrule MvNormalMeanCovariance(:out_μ_Σ) (m_out::PointMass, m_μ::PointMass, m_Σ::PointMass, ) = begin \n",
    "#     return m_out, m_μ, m_Σ\n",
    "# end\n",
    "\n",
    "# @average_energy MvNormalMeanCovariance (q_out_μ_Σ::Any,) = begin\n",
    "#     # naive: @views (d*log2π + mean(logdet, q_Σ) + tr(cholinv(mean(q_Σ))*( V[1:d,1:d] - V[1:d,d+1:end] - V[d+1:end,1:d] + V[d+1:end,d+1:end] + (m[1:d] - m[d+1:end])*(m[1:d] - m[d+1:end])' ))) / 2\n",
    "#     println(q_out_μ_Σ)\n",
    "#     return 0\n",
    "# end\n",
    "\n",
    "# @average_energy MvNormalMeanCovariance (q_out_μ_Σ::Any,) = begin\n",
    "#     dim = ndims(q_out_μ_Σ[1])\n",
    "#     m_mean = mean(q_out_μ_Σ[2])\n",
    "#     m_out   = mean(q_out_μ_Σ[1])\n",
    "#     return (dim * log(2π) + mean(logdet, q_out_μ_Σ[3]) + tr(cholinv(mean(q_out_μ_Σ[3]))*((m_out - m_mean)*(m_out - m_mean)'))) / 2\n",
    "# end"
   ]
  },
  {
   "cell_type": "code",
   "execution_count": 5,
   "metadata": {},
   "outputs": [],
   "source": [
    "xmarginals, bfe = inference([3., 2.], A);"
   ]
  },
  {
   "cell_type": "code",
   "execution_count": 6,
   "metadata": {},
   "outputs": [
    {
     "data": {
      "text/plain": [
       "3.311216657840774"
      ]
     },
     "execution_count": 6,
     "metadata": {},
     "output_type": "execute_result"
    }
   ],
   "source": [
    "bfe"
   ]
  },
  {
   "cell_type": "code",
   "execution_count": 8,
   "metadata": {},
   "outputs": [
    {
     "data": {
      "text/plain": [
       "3.1288951011337622"
      ]
     },
     "execution_count": 8,
     "metadata": {},
     "output_type": "execute_result"
    }
   ],
   "source": [
    "-logpdf(MvNormalMeanCovariance([1., 1.], [2. 0.;0. 1.]),A\\[3., 2.]) "
   ]
  },
  {
   "cell_type": "code",
   "execution_count": 9,
   "metadata": {},
   "outputs": [
    {
     "data": {
      "text/plain": [
       "3.3112166579277176"
      ]
     },
     "execution_count": 9,
     "metadata": {},
     "output_type": "execute_result"
    }
   ],
   "source": [
    "-logpdf(MvNormalMeanCovariance(A*[1., 1.], A*[2. 0.;0. 1.]*A'),[3., 2.]) "
   ]
  },
  {
   "cell_type": "code",
   "execution_count": null,
   "metadata": {},
   "outputs": [],
   "source": []
  }
 ],
 "metadata": {
  "kernelspec": {
   "display_name": "Julia 1.5.3",
   "language": "julia",
   "name": "julia-1.5"
  },
  "language_info": {
   "file_extension": ".jl",
   "mimetype": "application/julia",
   "name": "julia",
   "version": "1.5.3"
  },
  "orig_nbformat": 4
 },
 "nbformat": 4,
 "nbformat_minor": 2
}
