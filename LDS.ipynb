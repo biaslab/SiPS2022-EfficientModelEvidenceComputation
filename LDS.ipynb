{
 "cells": [
  {
   "cell_type": "code",
   "execution_count": 1,
   "metadata": {},
   "outputs": [
    {
     "name": "stderr",
     "output_type": "stream",
     "text": [
      "┌ Info: Precompiling ReactiveMP [a194aa59-28ba-4574-a09c-4a745416d6e3]\n",
      "└ @ Base loading.jl:1423\n"
     ]
    }
   ],
   "source": [
    "using Revise\n",
    "using Rocket, GraphPPL, ReactiveMP, Distributions, SpecialFunctions\n",
    "using Plots, LinearAlgebra, Random"
   ]
  },
  {
   "cell_type": "markdown",
   "metadata": {},
   "source": [
    "## Generate data"
   ]
  },
  {
   "cell_type": "code",
   "execution_count": 2,
   "metadata": {},
   "outputs": [
    {
     "data": {
      "text/plain": [
       "generate_data (generic function with 1 method)"
      ]
     },
     "execution_count": 2,
     "metadata": {},
     "output_type": "execute_result"
    }
   ],
   "source": [
    "#Generate data\n",
    "function generate_data(rng, A, B, Q, P)\n",
    "    x_prev = [ 10.0, -10.0 ]\n",
    "\n",
    "    x = Vector{Vector{Float64}}(undef, n)\n",
    "    y = Vector{Vector{Float64}}(undef, n)\n",
    "\n",
    "    for i in 1:n\n",
    "        x[i] = rand(rng, MvNormal(A * x_prev, Q))\n",
    "        y[i] = rand(rng, MvNormal(B * x[i], P))\n",
    "        x_prev = x[i]\n",
    "    end\n",
    "    \n",
    "    return x, y\n",
    "end"
   ]
  },
  {
   "cell_type": "code",
   "execution_count": 3,
   "metadata": {},
   "outputs": [],
   "source": [
    "# Seed for reproducibility\n",
    "seed = 1234\n",
    "\n",
    "rng = MersenneTwister(1234)\n",
    "\n",
    "\n",
    "#θ = π/35; \n",
    "A = [ 1.2 1.7; 0 1 ]\n",
    "B = diageye(2)\n",
    "Q = diageye(2)\n",
    "P = 25.0 .* diageye(2)\n",
    "\n",
    "# Number of observations\n",
    "n = 1;"
   ]
  },
  {
   "cell_type": "code",
   "execution_count": 4,
   "metadata": {},
   "outputs": [
    {
     "data": {
      "text/plain": [
       "0.1823215567939546"
      ]
     },
     "execution_count": 4,
     "metadata": {},
     "output_type": "execute_result"
    }
   ],
   "source": [
    "logdet(A)"
   ]
  },
  {
   "cell_type": "code",
   "execution_count": 5,
   "metadata": {},
   "outputs": [
    {
     "data": {
      "text/plain": [
       "0.0"
      ]
     },
     "execution_count": 5,
     "metadata": {},
     "output_type": "execute_result"
    }
   ],
   "source": [
    "logdet(B)"
   ]
  },
  {
   "cell_type": "code",
   "execution_count": 6,
   "metadata": {},
   "outputs": [],
   "source": [
    "x, y = generate_data(rng, A, B, Q, P);"
   ]
  },
  {
   "cell_type": "code",
   "execution_count": 7,
   "metadata": {},
   "outputs": [],
   "source": [
    "x0 = MvNormalMeanCovariance(zeros(2), 100.0 * diageye(2));"
   ]
  },
  {
   "cell_type": "markdown",
   "metadata": {},
   "source": [
    "## Inference by ReactiveMP (involving Scale factor)\n",
    "In this section, we add Scale factor update rule to ReactiveMP, then we compute the model evidence by scale factors and compare the computational time with the previous ReactiveMP without scale factors."
   ]
  },
  {
   "cell_type": "code",
   "execution_count": 8,
   "metadata": {},
   "outputs": [],
   "source": [
    "#Define a new structure, which consists of a message and a -log(scalefactor)\n",
    "# struct MessageWithScaleFactor{T}\n",
    "#     message :: T\n",
    "#     scalefactor :: Float64\n",
    "# end"
   ]
  },
  {
   "cell_type": "code",
   "execution_count": 9,
   "metadata": {},
   "outputs": [],
   "source": [
    "#Define a structure for scalefactor\n",
    "#When we use this, ReactiveMP will switch to MessageWithScaleFactor backend\n",
    "# struct scalefactormeta end"
   ]
  },
  {
   "cell_type": "code",
   "execution_count": 10,
   "metadata": {},
   "outputs": [],
   "source": [
    "#create rules (both message and scalefactor) for Normal node\n",
    "@rule MvNormalMeanCovariance(:μ, Marginalisation) (m_out::PointMass, m_Σ::PointMass, meta::ScaleFactorMeta) = begin\n",
    "    message = @call_rule MvNormalMeanCovariance(:μ, Marginalisation) (m_out = m_out, m_Σ = m_Σ) \n",
    "    scale = 0.0\n",
    "    return ScaledMessage(message,scale)\n",
    "end\n",
    "\n",
    "@rule MvNormalMeanCovariance(:μ, Marginalisation) (m_out::MultivariateNormalDistributionsFamily, m_Σ::PointMass, meta::ScaleFactorMeta) = begin\n",
    "    message = @call_rule MvNormalMeanCovariance(:μ, Marginalisation) (m_out = m_out, m_Σ = m_Σ) \n",
    "    scale = 0.0\n",
    "    return ScaledMessage(message,scale)\n",
    "end\n",
    "\n",
    "\n",
    "@rule MvNormalMeanCovariance(:out, Marginalisation) (m_μ::PointMass, m_Σ::PointMass, meta::ScaleFactorMeta) = begin\n",
    "    message = @call_rule MvNormalMeanCovariance(:out, Marginalisation) (m_μ = m_μ, m_Σ = m_Σ) \n",
    "    scale = 0.0\n",
    "    return ScaledMessage(message,scale)\n",
    "end\n",
    "\n",
    "@rule MvNormalMeanCovariance(:out, Marginalisation) (m_μ::MultivariateNormalDistributionsFamily, m_Σ::PointMass, meta::ScaleFactorMeta) = begin\n",
    "    message = @call_rule MvNormalMeanCovariance(:out, Marginalisation) (m_μ = m_μ, m_Σ = m_Σ) \n",
    "    scale = 0.0\n",
    "    return ScaledMessage(message,scale)\n",
    "end\n",
    "\n",
    "@rule MvNormalMeanCovariance(:out, Marginalisation) (m_μ::ScaledMessage, m_Σ::PointMass, meta::ScaleFactorMeta) = begin \n",
    "    message = @call_rule MvNormalMeanCovariance(:out, Marginalisation) (m_μ = m_μ.message, m_Σ = m_Σ) \n",
    "    scale = m_μ.scale\n",
    "    return ScaledMessage(message,scale)\n",
    "end\n",
    "\n",
    "@rule MvNormalMeanCovariance(:μ, Marginalisation) (m_out::ScaledMessage, m_Σ::PointMass, meta::ScaleFactorMeta) = begin \n",
    "    message = @call_rule MvNormalMeanCovariance(:μ, Marginalisation) (m_out = m_out.message, m_Σ = m_Σ) \n",
    "    scale = m_out.scale\n",
    "    return ScaledMessage(message, scale)\n",
    "end"
   ]
  },
  {
   "cell_type": "code",
   "execution_count": 11,
   "metadata": {},
   "outputs": [],
   "source": [
    "@rule typeof(*)(:out, Marginalisation) (m_A::PointMass, m_in::ScaledMessage, meta::ScaleFactorMeta) = begin \n",
    "    message = @call_rule typeof(*)(:out, Marginalisation) (m_A = m_A, m_in = m_in.message, meta=TinyCorrection())\n",
    "    scale = m_in.scale\n",
    "\n",
    "    return ScaledMessage(message, scale)\n",
    "end\n",
    "\n",
    "@rule typeof(*)(:in, Marginalisation) (m_out::ScaledMessage, m_A::PointMass, meta::ScaleFactorMeta) = begin\n",
    "    A = mean(m_A)     \n",
    "    message = @call_rule typeof(*)(:in, Marginalisation) (m_out = m_out.message, m_A = m_A, meta=TinyCorrection())\n",
    "    scale = m_out.scale + logdet(A)\n",
    "    return ScaledMessage(message, scale)\n",
    "end\n",
    "\n",
    "# @rule typeof(*)(:in, Marginalisation) (m_out::PointMass, m_A::PointMass) = PointMass(mean(inv, m_A) * mean(m_out))"
   ]
  },
  {
   "cell_type": "code",
   "execution_count": 12,
   "metadata": {},
   "outputs": [],
   "source": [
    "#Product function for equality node\n",
    "function ReactiveMP.prod(::ProdAnalytical, left::ScaledMessage{ <: MultivariateNormalDistributionsFamily }, right::ScaledMessage{ <: MultivariateNormalDistributionsFamily })\n",
    "    mean_left, var_left = mean_cov(left.message)\n",
    "    mean_right, var_right = mean_cov(right.message)\n",
    "    n = length(mean_left)\n",
    "    m, V = mean_left - mean_right, var_left + var_right\n",
    "\n",
    "    message = prod(ProdAnalytical(),left.message,right.message)\n",
    "    scale = left.scale + right.scale + 0.5*logdet(V) + n/2*log(2π) + m'*inv(V)*m/2\n",
    "\n",
    "    return ScaledMessage(message,scale)\n",
    "end"
   ]
  },
  {
   "cell_type": "code",
   "execution_count": 13,
   "metadata": {},
   "outputs": [
    {
     "data": {
      "text/plain": [
       "rotate_ssm_scalefactor (generic function with 1 method)"
      ]
     },
     "execution_count": 13,
     "metadata": {},
     "output_type": "execute_result"
    }
   ],
   "source": [
    "#Define model with meta = scalefactormeta\n",
    "@model [default_meta=ScaleFactorMeta() ] function rotate_ssm_scalefactor(n, x0, A, B, Q, P)\n",
    "    # We create constvar references for better efficiency\n",
    "    cA = constvar(A)\n",
    "    cB = constvar(B)\n",
    "    cQ = constvar(Q)\n",
    "    cP = constvar(P)\n",
    "        \n",
    "    # `x` is a sequence of hidden states\n",
    "    x = randomvar(n)\n",
    "    # `y` is a sequence of \"clamped\" observations\n",
    "    y = datavar(Vector{Float64}, n)\n",
    "        \n",
    "    x_prior ~ MvNormalMeanCovariance(mean(x0), cov(x0))\n",
    "    x_prev = x_prior\n",
    "        \n",
    "    for i in 1:n\n",
    "        x[i] ~ MvNormalMeanCovariance(cA * x_prev, cQ)\n",
    "        y[i] ~ MvNormalMeanCovariance(cB * x[i], cP)\n",
    "        x_prev = x[i]\n",
    "    end\n",
    "        \n",
    "    return x, y\n",
    "end"
   ]
  },
  {
   "cell_type": "code",
   "execution_count": 14,
   "metadata": {},
   "outputs": [
    {
     "data": {
      "text/plain": [
       "inference (generic function with 1 method)"
      ]
     },
     "execution_count": 14,
     "metadata": {},
     "output_type": "execute_result"
    }
   ],
   "source": [
    "#Now we do inference\n",
    "function inference(data, x0, A, B, Q, P)\n",
    "\n",
    "    # We create a model and get references for \n",
    "    # hidden states and observations\n",
    "    model, (x, y) = rotate_ssm_scalefactor(n, x0, A, B, Q, P);\n",
    "\n",
    "    xbuffer   = buffer(Marginal, n)\n",
    "    \n",
    "    # We subscribe on posterior marginals of `x`\n",
    "    xsubscription = subscribe!(getmarginals(x), xbuffer)\n",
    "    # `update!` updates our clamped datavars\n",
    "    update!(y, data)\n",
    "\n",
    "    # It is important to always unsubscribe\n",
    "    unsubscribe!(xsubscription)\n",
    "    \n",
    "    return xbuffer\n",
    "end"
   ]
  },
  {
   "cell_type": "code",
   "execution_count": 15,
   "metadata": {},
   "outputs": [],
   "source": [
    "xmarginals_sf = inference(y, x0, A, B, Q, P);"
   ]
  },
  {
   "cell_type": "code",
   "execution_count": 16,
   "metadata": {},
   "outputs": [
    {
     "data": {
      "text/plain": [
       "BufferActor{Marginal, Vector{Marginal}}(Marginal[Marginal(ScaledMessage{MvNormalWeightedMeanPrecision{Float64, Vector{Float64}, Matrix{Float64}}}(MvNormalWeightedMeanPrecision(\n",
       "xi: [-0.264201862622797, -0.6166526114073211]\n",
       "Λ: [0.04676309093444048 -0.011383420383018613; -0.011383420383018613 0.06906120262588282]\n",
       ")\n",
       ", 8.356089410352727))])"
      ]
     },
     "execution_count": 16,
     "metadata": {},
     "output_type": "execute_result"
    }
   ],
   "source": [
    "xmarginals_sf"
   ]
  },
  {
   "cell_type": "markdown",
   "metadata": {},
   "source": [
    "## Inference by regular ReactiveMP"
   ]
  },
  {
   "cell_type": "code",
   "execution_count": 17,
   "metadata": {},
   "outputs": [
    {
     "data": {
      "text/plain": [
       "rotate_ssm (generic function with 1 method)"
      ]
     },
     "execution_count": 17,
     "metadata": {},
     "output_type": "execute_result"
    }
   ],
   "source": [
    "@model function rotate_ssm(n, x0, A, B, Q, P)\n",
    "    \n",
    "    # We create constvar references for better efficiency\n",
    "    cA = constvar(A)\n",
    "    cB = constvar(B)\n",
    "    cQ = constvar(Q)\n",
    "    cP = constvar(P)\n",
    "    \n",
    "    # `x` is a sequence of hidden states\n",
    "    x = randomvar(n)\n",
    "    # `y` is a sequence of \"clamped\" observations\n",
    "    y = datavar(Vector{Float64}, n)\n",
    "    \n",
    "    x_prior ~ MvNormalMeanCovariance(mean(x0), cov(x0))\n",
    "    x_prev = x_prior\n",
    "    \n",
    "    for i in 1:n\n",
    "        x[i] ~ MvNormalMeanCovariance(cA * x_prev, cQ)\n",
    "        y[i] ~ MvNormalMeanCovariance(cB * x[i], cP)\n",
    "        x_prev = x[i]\n",
    "    end\n",
    "    \n",
    "    return x, y\n",
    "end"
   ]
  },
  {
   "cell_type": "code",
   "execution_count": 18,
   "metadata": {},
   "outputs": [
    {
     "data": {
      "text/plain": [
       "inference (generic function with 1 method)"
      ]
     },
     "execution_count": 18,
     "metadata": {},
     "output_type": "execute_result"
    }
   ],
   "source": [
    "function inference(data, x0, A, B, Q, P)\n",
    "\n",
    "    # We create a model and get references for \n",
    "    # hidden states and observations\n",
    "    model, (x, y) = rotate_ssm(n, x0, A, B, Q, P);\n",
    "\n",
    "    xbuffer   = buffer(Marginal, n)\n",
    "    bfe       = nothing\n",
    "    \n",
    "    # We subscribe on posterior marginals of `x`\n",
    "    xsubscription = subscribe!(getmarginals(x), xbuffer)\n",
    "    # We are also intereset in BetheFreeEnergy functional,\n",
    "    # which in this case is equal to minus log evidence\n",
    "    fsubcription = subscribe!(score(BetheFreeEnergy(), model), (v) -> bfe = v)\n",
    "\n",
    "    # `update!` updates our clamped datavars\n",
    "    update!(y, data)\n",
    "\n",
    "    # It is important to always unsubscribe\n",
    "    unsubscribe!((xsubscription, fsubcription))\n",
    "    \n",
    "    return xbuffer, bfe\n",
    "end"
   ]
  },
  {
   "cell_type": "code",
   "execution_count": 19,
   "metadata": {},
   "outputs": [],
   "source": [
    "xmarginals, bfe = inference(y, x0, A, B, Q, P);"
   ]
  },
  {
   "cell_type": "code",
   "execution_count": 20,
   "metadata": {},
   "outputs": [
    {
     "data": {
      "text/plain": [
       "8.356089410355677"
      ]
     },
     "execution_count": 20,
     "metadata": {},
     "output_type": "execute_result"
    }
   ],
   "source": [
    "bfe"
   ]
  },
  {
   "cell_type": "code",
   "execution_count": 21,
   "metadata": {},
   "outputs": [
    {
     "ename": "LoadError",
     "evalue": "type ScaledMessage has no field scalefactor",
     "output_type": "error",
     "traceback": [
      "type ScaledMessage has no field scalefactor",
      "",
      "Stacktrace:",
      " [1] getproperty(x::ScaledMessage{MvNormalWeightedMeanPrecision{Float64, Vector{Float64}, Matrix{Float64}}}, f::Symbol)",
      "   @ Base .\\Base.jl:42",
      " [2] top-level scope",
      "   @ In[21]:1",
      " [3] eval",
      "   @ .\\boot.jl:373 [inlined]",
      " [4] include_string(mapexpr::typeof(REPL.softscope), mod::Module, code::String, filename::String)",
      "   @ Base .\\loading.jl:1196"
     ]
    }
   ],
   "source": [
    "me_scf = xmarginals_sf[end].data.scalefactor"
   ]
  },
  {
   "cell_type": "code",
   "execution_count": null,
   "metadata": {},
   "outputs": [],
   "source": [
    "mz = A*mean(x0)\n",
    "vz = A*cov(x0)*A'\n",
    "my = B*mz\n",
    "vy = B*(vz + Q)*B' + P\n",
    "logpdf(MvNormalMeanCovariance(my, vy),y[1]) "
   ]
  },
  {
   "cell_type": "code",
   "execution_count": null,
   "metadata": {},
   "outputs": [],
   "source": [
    "bfe - me_scf"
   ]
  },
  {
   "cell_type": "code",
   "execution_count": 22,
   "metadata": {},
   "outputs": [
    {
     "data": {
      "text/plain": [
       "0.3646431135879092"
      ]
     },
     "execution_count": 22,
     "metadata": {},
     "output_type": "execute_result"
    }
   ],
   "source": [
    "logdet(A)*2"
   ]
  },
  {
   "cell_type": "code",
   "execution_count": 23,
   "metadata": {},
   "outputs": [
    {
     "data": {
      "text/plain": [
       "example (generic function with 1 method)"
      ]
     },
     "execution_count": 23,
     "metadata": {},
     "output_type": "execute_result"
    }
   ],
   "source": [
    "@model function example(A)\n",
    "    \n",
    "    # We create constvar references for better efficiency\n",
    "    cA = constvar(A)\n",
    "    \n",
    "    # `x` is a sequence of hidden states\n",
    "    x ~ MvNormalMeanCovariance([1., 1.], [2. 0.;0. 1.])\n",
    "    # `y` is a sequence of \"clamped\" observations\n",
    "    y = datavar(Vector{Float64})\n",
    "    \n",
    "    y~ MvNormalMeanPrecision(A*x, [1e10 0; 0 1e10])\n",
    "    \n",
    "    return x, y\n",
    "end"
   ]
  },
  {
   "cell_type": "code",
   "execution_count": 24,
   "metadata": {},
   "outputs": [
    {
     "data": {
      "text/plain": [
       "inference (generic function with 2 methods)"
      ]
     },
     "execution_count": 24,
     "metadata": {},
     "output_type": "execute_result"
    }
   ],
   "source": [
    "function inference(data, A)\n",
    "\n",
    "    # We create a model and get references for \n",
    "    # hidden states and observations\n",
    "    model, (x, y) = example(A);\n",
    "\n",
    "    xbuffer   = keep(Marginal)\n",
    "    bfe       = nothing\n",
    "    \n",
    "    # We subscribe on posterior marginals of `x`\n",
    "    xsubscription = subscribe!(getmarginal(x), xbuffer)\n",
    "    # We are also intereset in BetheFreeEnergy functional,\n",
    "    # which in this case is equal to minus log evidence\n",
    "    fsubcription = subscribe!(score(BetheFreeEnergy(), model), (v) -> bfe = v)\n",
    "\n",
    "    # `update!` updates our clamped datavars\n",
    "    update!(y, data)\n",
    "\n",
    "    # It is important to always unsubscribe\n",
    "    unsubscribe!((xsubscription, fsubcription))\n",
    "    \n",
    "    return xbuffer, bfe\n",
    "end"
   ]
  },
  {
   "cell_type": "code",
   "execution_count": 25,
   "metadata": {},
   "outputs": [],
   "source": [
    "# #Product function for equality node\n",
    "# function ReactiveMP.prod(::ProdAnalytical, left::MultivariateNormalDistributionsFamily, right::PointMass)\n",
    "\n",
    "#     return left\n",
    "# end\n",
    "# @marginalrule MvNormalMeanCovariance(:out_μ_Σ) (m_out::PointMass, m_μ::PointMass, m_Σ::PointMass, ) = begin \n",
    "#     return m_out, m_μ, m_Σ\n",
    "# end\n",
    "\n",
    "# @average_energy MvNormalMeanCovariance (q_out_μ_Σ::Any,) = begin\n",
    "#     # naive: @views (d*log2π + mean(logdet, q_Σ) + tr(cholinv(mean(q_Σ))*( V[1:d,1:d] - V[1:d,d+1:end] - V[d+1:end,1:d] + V[d+1:end,d+1:end] + (m[1:d] - m[d+1:end])*(m[1:d] - m[d+1:end])' ))) / 2\n",
    "#     println(q_out_μ_Σ)\n",
    "#     return 0\n",
    "# end\n",
    "\n",
    "# @average_energy MvNormalMeanCovariance (q_out_μ_Σ::Any,) = begin\n",
    "#     dim = ndims(q_out_μ_Σ[1])\n",
    "#     m_mean = mean(q_out_μ_Σ[2])\n",
    "#     m_out   = mean(q_out_μ_Σ[1])\n",
    "#     return (dim * log(2π) + mean(logdet, q_out_μ_Σ[3]) + tr(cholinv(mean(q_out_μ_Σ[3]))*((m_out - m_mean)*(m_out - m_mean)'))) / 2\n",
    "# end"
   ]
  },
  {
   "cell_type": "code",
   "execution_count": 26,
   "metadata": {},
   "outputs": [],
   "source": [
    "xmarginals, bfe = inference([3., 2.], A);"
   ]
  },
  {
   "cell_type": "code",
   "execution_count": 27,
   "metadata": {},
   "outputs": [
    {
     "data": {
      "text/plain": [
       "-3.311216657840774"
      ]
     },
     "execution_count": 27,
     "metadata": {},
     "output_type": "execute_result"
    }
   ],
   "source": [
    "-bfe"
   ]
  },
  {
   "cell_type": "code",
   "execution_count": 28,
   "metadata": {},
   "outputs": [
    {
     "data": {
      "text/plain": [
       "-3.3112166579277167"
      ]
     },
     "execution_count": 28,
     "metadata": {},
     "output_type": "execute_result"
    }
   ],
   "source": [
    "logpdf(MvNormalMeanCovariance([1., 1.], [2. 0.;0. 1.]),A\\[3., 2.]) - logdet(A)"
   ]
  },
  {
   "cell_type": "code",
   "execution_count": 29,
   "metadata": {},
   "outputs": [
    {
     "data": {
      "text/plain": [
       "-3.3112166579277176"
      ]
     },
     "execution_count": 29,
     "metadata": {},
     "output_type": "execute_result"
    }
   ],
   "source": [
    "logpdf(MvNormalMeanCovariance(A*[1., 1.], A*[2. 0.;0. 1.]*A'),[3., 2.]) "
   ]
  },
  {
   "cell_type": "code",
   "execution_count": null,
   "metadata": {},
   "outputs": [],
   "source": []
  },
  {
   "cell_type": "code",
   "execution_count": null,
   "metadata": {},
   "outputs": [],
   "source": []
  },
  {
   "cell_type": "code",
   "execution_count": null,
   "metadata": {},
   "outputs": [],
   "source": []
  }
 ],
 "metadata": {
  "kernelspec": {
   "display_name": "Julia 1.7.0",
   "language": "julia",
   "name": "julia-1.7"
  },
  "language_info": {
   "file_extension": ".jl",
   "mimetype": "application/julia",
   "name": "julia",
   "version": "1.7.0"
  },
  "orig_nbformat": 4
 },
 "nbformat": 4,
 "nbformat_minor": 2
}
